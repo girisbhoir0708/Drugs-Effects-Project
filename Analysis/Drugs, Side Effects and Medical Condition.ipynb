{
 "cells": [
  {
   "cell_type": "code",
   "execution_count": 1,
   "id": "8a39f6d6",
   "metadata": {},
   "outputs": [],
   "source": [
    "import pandas as pd\n",
    "import matplotlib.pyplot as plt\n",
    "import seaborn as sns\n",
    "import numpy as np\n",
    "from wordcloud import WordCloud\n",
    "from collections import Counter\n",
    "import networkx as nx"
   ]
  },
  {
   "cell_type": "code",
   "execution_count": 2,
   "id": "82c8e43c",
   "metadata": {},
   "outputs": [
    {
     "data": {
      "text/html": [
       "<div>\n",
       "<style scoped>\n",
       "    .dataframe tbody tr th:only-of-type {\n",
       "        vertical-align: middle;\n",
       "    }\n",
       "\n",
       "    .dataframe tbody tr th {\n",
       "        vertical-align: top;\n",
       "    }\n",
       "\n",
       "    .dataframe thead th {\n",
       "        text-align: right;\n",
       "    }\n",
       "</style>\n",
       "<table border=\"1\" class=\"dataframe\">\n",
       "  <thead>\n",
       "    <tr style=\"text-align: right;\">\n",
       "      <th></th>\n",
       "      <th>drug_name</th>\n",
       "      <th>medical_condition</th>\n",
       "      <th>side_effects</th>\n",
       "      <th>generic_name</th>\n",
       "      <th>drug_classes</th>\n",
       "      <th>brand_names</th>\n",
       "      <th>activity</th>\n",
       "      <th>rx_otc</th>\n",
       "      <th>pregnancy_category</th>\n",
       "      <th>csa</th>\n",
       "      <th>alcohol</th>\n",
       "      <th>related_drugs</th>\n",
       "      <th>medical_condition_description</th>\n",
       "      <th>rating</th>\n",
       "      <th>no_of_reviews</th>\n",
       "      <th>drug_link</th>\n",
       "      <th>medical_condition_url</th>\n",
       "    </tr>\n",
       "  </thead>\n",
       "  <tbody>\n",
       "    <tr>\n",
       "      <th>0</th>\n",
       "      <td>doxycycline</td>\n",
       "      <td>Acne</td>\n",
       "      <td>(hives, difficult breathing, swelling in your ...</td>\n",
       "      <td>doxycycline</td>\n",
       "      <td>Miscellaneous antimalarials, Tetracyclines</td>\n",
       "      <td>Acticlate, Adoxa CK, Adoxa Pak, Adoxa TT, Alod...</td>\n",
       "      <td>87%</td>\n",
       "      <td>Rx</td>\n",
       "      <td>D</td>\n",
       "      <td>N</td>\n",
       "      <td>X</td>\n",
       "      <td>amoxicillin: https://www.drugs.com/amoxicillin...</td>\n",
       "      <td>Acne Other names: Acne Vulgaris; Blackheads; B...</td>\n",
       "      <td>6.8</td>\n",
       "      <td>760.0</td>\n",
       "      <td>https://www.drugs.com/doxycycline.html</td>\n",
       "      <td>https://www.drugs.com/condition/acne.html</td>\n",
       "    </tr>\n",
       "    <tr>\n",
       "      <th>1</th>\n",
       "      <td>spironolactone</td>\n",
       "      <td>Acne</td>\n",
       "      <td>hives ; difficulty breathing; swelling of your...</td>\n",
       "      <td>spironolactone</td>\n",
       "      <td>Aldosterone receptor antagonists, Potassium-sp...</td>\n",
       "      <td>Aldactone, CaroSpir</td>\n",
       "      <td>82%</td>\n",
       "      <td>Rx</td>\n",
       "      <td>C</td>\n",
       "      <td>N</td>\n",
       "      <td>X</td>\n",
       "      <td>amlodipine: https://www.drugs.com/amlodipine.h...</td>\n",
       "      <td>Acne Other names: Acne Vulgaris; Blackheads; B...</td>\n",
       "      <td>7.2</td>\n",
       "      <td>449.0</td>\n",
       "      <td>https://www.drugs.com/spironolactone.html</td>\n",
       "      <td>https://www.drugs.com/condition/acne.html</td>\n",
       "    </tr>\n",
       "    <tr>\n",
       "      <th>2</th>\n",
       "      <td>minocycline</td>\n",
       "      <td>Acne</td>\n",
       "      <td>skin rash, fever, swollen glands, flu-like sym...</td>\n",
       "      <td>minocycline</td>\n",
       "      <td>Tetracyclines</td>\n",
       "      <td>Dynacin, Minocin, Minolira, Solodyn, Ximino, V...</td>\n",
       "      <td>48%</td>\n",
       "      <td>Rx</td>\n",
       "      <td>D</td>\n",
       "      <td>N</td>\n",
       "      <td>NaN</td>\n",
       "      <td>amoxicillin: https://www.drugs.com/amoxicillin...</td>\n",
       "      <td>Acne Other names: Acne Vulgaris; Blackheads; B...</td>\n",
       "      <td>5.7</td>\n",
       "      <td>482.0</td>\n",
       "      <td>https://www.drugs.com/minocycline.html</td>\n",
       "      <td>https://www.drugs.com/condition/acne.html</td>\n",
       "    </tr>\n",
       "    <tr>\n",
       "      <th>3</th>\n",
       "      <td>Accutane</td>\n",
       "      <td>Acne</td>\n",
       "      <td>problems with your vision or hearing; muscle o...</td>\n",
       "      <td>isotretinoin (oral)</td>\n",
       "      <td>Miscellaneous antineoplastics, Miscellaneous u...</td>\n",
       "      <td>NaN</td>\n",
       "      <td>41%</td>\n",
       "      <td>Rx</td>\n",
       "      <td>X</td>\n",
       "      <td>N</td>\n",
       "      <td>X</td>\n",
       "      <td>doxycycline: https://www.drugs.com/doxycycline...</td>\n",
       "      <td>Acne Other names: Acne Vulgaris; Blackheads; B...</td>\n",
       "      <td>7.9</td>\n",
       "      <td>623.0</td>\n",
       "      <td>https://www.drugs.com/accutane.html</td>\n",
       "      <td>https://www.drugs.com/condition/acne.html</td>\n",
       "    </tr>\n",
       "    <tr>\n",
       "      <th>4</th>\n",
       "      <td>clindamycin</td>\n",
       "      <td>Acne</td>\n",
       "      <td>hives ; difficult breathing; swelling of your ...</td>\n",
       "      <td>clindamycin topical</td>\n",
       "      <td>Topical acne agents, Vaginal anti-infectives</td>\n",
       "      <td>Cleocin T, Clindacin ETZ, Clindacin P, Clindag...</td>\n",
       "      <td>39%</td>\n",
       "      <td>Rx</td>\n",
       "      <td>B</td>\n",
       "      <td>N</td>\n",
       "      <td>NaN</td>\n",
       "      <td>doxycycline: https://www.drugs.com/doxycycline...</td>\n",
       "      <td>Acne Other names: Acne Vulgaris; Blackheads; B...</td>\n",
       "      <td>7.4</td>\n",
       "      <td>146.0</td>\n",
       "      <td>https://www.drugs.com/mtm/clindamycin-topical....</td>\n",
       "      <td>https://www.drugs.com/condition/acne.html</td>\n",
       "    </tr>\n",
       "  </tbody>\n",
       "</table>\n",
       "</div>"
      ],
      "text/plain": [
       "        drug_name medical_condition  \\\n",
       "0     doxycycline              Acne   \n",
       "1  spironolactone              Acne   \n",
       "2     minocycline              Acne   \n",
       "3        Accutane              Acne   \n",
       "4     clindamycin              Acne   \n",
       "\n",
       "                                        side_effects         generic_name  \\\n",
       "0  (hives, difficult breathing, swelling in your ...          doxycycline   \n",
       "1  hives ; difficulty breathing; swelling of your...       spironolactone   \n",
       "2  skin rash, fever, swollen glands, flu-like sym...          minocycline   \n",
       "3  problems with your vision or hearing; muscle o...  isotretinoin (oral)   \n",
       "4  hives ; difficult breathing; swelling of your ...  clindamycin topical   \n",
       "\n",
       "                                        drug_classes  \\\n",
       "0         Miscellaneous antimalarials, Tetracyclines   \n",
       "1  Aldosterone receptor antagonists, Potassium-sp...   \n",
       "2                                      Tetracyclines   \n",
       "3  Miscellaneous antineoplastics, Miscellaneous u...   \n",
       "4       Topical acne agents, Vaginal anti-infectives   \n",
       "\n",
       "                                         brand_names activity rx_otc  \\\n",
       "0  Acticlate, Adoxa CK, Adoxa Pak, Adoxa TT, Alod...      87%     Rx   \n",
       "1                                Aldactone, CaroSpir      82%     Rx   \n",
       "2  Dynacin, Minocin, Minolira, Solodyn, Ximino, V...      48%     Rx   \n",
       "3                                                NaN      41%     Rx   \n",
       "4  Cleocin T, Clindacin ETZ, Clindacin P, Clindag...      39%     Rx   \n",
       "\n",
       "  pregnancy_category csa alcohol  \\\n",
       "0                  D   N       X   \n",
       "1                  C   N       X   \n",
       "2                  D   N     NaN   \n",
       "3                  X   N       X   \n",
       "4                  B   N     NaN   \n",
       "\n",
       "                                       related_drugs  \\\n",
       "0  amoxicillin: https://www.drugs.com/amoxicillin...   \n",
       "1  amlodipine: https://www.drugs.com/amlodipine.h...   \n",
       "2  amoxicillin: https://www.drugs.com/amoxicillin...   \n",
       "3  doxycycline: https://www.drugs.com/doxycycline...   \n",
       "4  doxycycline: https://www.drugs.com/doxycycline...   \n",
       "\n",
       "                       medical_condition_description  rating  no_of_reviews  \\\n",
       "0  Acne Other names: Acne Vulgaris; Blackheads; B...     6.8          760.0   \n",
       "1  Acne Other names: Acne Vulgaris; Blackheads; B...     7.2          449.0   \n",
       "2  Acne Other names: Acne Vulgaris; Blackheads; B...     5.7          482.0   \n",
       "3  Acne Other names: Acne Vulgaris; Blackheads; B...     7.9          623.0   \n",
       "4  Acne Other names: Acne Vulgaris; Blackheads; B...     7.4          146.0   \n",
       "\n",
       "                                           drug_link  \\\n",
       "0             https://www.drugs.com/doxycycline.html   \n",
       "1          https://www.drugs.com/spironolactone.html   \n",
       "2             https://www.drugs.com/minocycline.html   \n",
       "3                https://www.drugs.com/accutane.html   \n",
       "4  https://www.drugs.com/mtm/clindamycin-topical....   \n",
       "\n",
       "                       medical_condition_url  \n",
       "0  https://www.drugs.com/condition/acne.html  \n",
       "1  https://www.drugs.com/condition/acne.html  \n",
       "2  https://www.drugs.com/condition/acne.html  \n",
       "3  https://www.drugs.com/condition/acne.html  \n",
       "4  https://www.drugs.com/condition/acne.html  "
      ]
     },
     "execution_count": 2,
     "metadata": {},
     "output_type": "execute_result"
    }
   ],
   "source": [
    "df = pd.read_csv(\"drugs_side_effects_drugs_com.csv\")\n",
    "df.head()"
   ]
  },
  {
   "cell_type": "code",
   "execution_count": 3,
   "id": "c3489fe3",
   "metadata": {},
   "outputs": [
    {
     "name": "stdout",
     "output_type": "stream",
     "text": [
      "The dataset has 2931 rows and 17 columns\n"
     ]
    }
   ],
   "source": [
    "print(\"The dataset has {} rows and {} columns\".format(df.shape[0], df.shape[1]))"
   ]
  },
  {
   "cell_type": "code",
   "execution_count": 4,
   "id": "7e22ba8c",
   "metadata": {},
   "outputs": [
    {
     "name": "stdout",
     "output_type": "stream",
     "text": [
      "Index(['drug_name', 'medical_condition', 'side_effects', 'generic_name',\n",
      "       'drug_classes', 'brand_names', 'activity', 'rx_otc',\n",
      "       'pregnancy_category', 'csa', 'alcohol', 'related_drugs',\n",
      "       'medical_condition_description', 'rating', 'no_of_reviews', 'drug_link',\n",
      "       'medical_condition_url'],\n",
      "      dtype='object')\n"
     ]
    }
   ],
   "source": [
    "print(df.columns)"
   ]
  },
  {
   "cell_type": "code",
   "execution_count": 5,
   "id": "b4f0b3f7",
   "metadata": {},
   "outputs": [
    {
     "name": "stdout",
     "output_type": "stream",
     "text": [
      "<class 'pandas.core.frame.DataFrame'>\n",
      "RangeIndex: 2931 entries, 0 to 2930\n",
      "Data columns (total 17 columns):\n",
      " #   Column                         Non-Null Count  Dtype  \n",
      "---  ------                         --------------  -----  \n",
      " 0   drug_name                      2931 non-null   object \n",
      " 1   medical_condition              2931 non-null   object \n",
      " 2   side_effects                   2807 non-null   object \n",
      " 3   generic_name                   2888 non-null   object \n",
      " 4   drug_classes                   2849 non-null   object \n",
      " 5   brand_names                    1718 non-null   object \n",
      " 6   activity                       2931 non-null   object \n",
      " 7   rx_otc                         2930 non-null   object \n",
      " 8   pregnancy_category             2702 non-null   object \n",
      " 9   csa                            2931 non-null   object \n",
      " 10  alcohol                        1377 non-null   object \n",
      " 11  related_drugs                  1462 non-null   object \n",
      " 12  medical_condition_description  2931 non-null   object \n",
      " 13  rating                         1586 non-null   float64\n",
      " 14  no_of_reviews                  1586 non-null   float64\n",
      " 15  drug_link                      2931 non-null   object \n",
      " 16  medical_condition_url          2931 non-null   object \n",
      "dtypes: float64(2), object(15)\n",
      "memory usage: 389.4+ KB\n"
     ]
    }
   ],
   "source": [
    "df.info()"
   ]
  },
  {
   "cell_type": "code",
   "execution_count": 6,
   "id": "d4e93da6",
   "metadata": {},
   "outputs": [
    {
     "data": {
      "text/html": [
       "<div>\n",
       "<style scoped>\n",
       "    .dataframe tbody tr th:only-of-type {\n",
       "        vertical-align: middle;\n",
       "    }\n",
       "\n",
       "    .dataframe tbody tr th {\n",
       "        vertical-align: top;\n",
       "    }\n",
       "\n",
       "    .dataframe thead th {\n",
       "        text-align: right;\n",
       "    }\n",
       "</style>\n",
       "<table border=\"1\" class=\"dataframe\">\n",
       "  <thead>\n",
       "    <tr style=\"text-align: right;\">\n",
       "      <th></th>\n",
       "      <th>drug_name</th>\n",
       "      <th>medical_condition</th>\n",
       "      <th>side_effects</th>\n",
       "      <th>generic_name</th>\n",
       "      <th>drug_classes</th>\n",
       "      <th>brand_names</th>\n",
       "      <th>activity</th>\n",
       "      <th>rx_otc</th>\n",
       "      <th>pregnancy_category</th>\n",
       "      <th>csa</th>\n",
       "      <th>alcohol</th>\n",
       "      <th>related_drugs</th>\n",
       "      <th>medical_condition_description</th>\n",
       "      <th>rating</th>\n",
       "      <th>no_of_reviews</th>\n",
       "      <th>drug_link</th>\n",
       "      <th>medical_condition_url</th>\n",
       "    </tr>\n",
       "  </thead>\n",
       "  <tbody>\n",
       "    <tr>\n",
       "      <th>0</th>\n",
       "      <td>doxycycline</td>\n",
       "      <td>Acne</td>\n",
       "      <td>(hives, difficult breathing, swelling in your ...</td>\n",
       "      <td>doxycycline</td>\n",
       "      <td>Miscellaneous antimalarials, Tetracyclines</td>\n",
       "      <td>Acticlate, Adoxa CK, Adoxa Pak, Adoxa TT, Alod...</td>\n",
       "      <td>87%</td>\n",
       "      <td>Rx</td>\n",
       "      <td>D</td>\n",
       "      <td>N</td>\n",
       "      <td>X</td>\n",
       "      <td>amoxicillin: https://www.drugs.com/amoxicillin...</td>\n",
       "      <td>Acne Other names: Acne Vulgaris; Blackheads; B...</td>\n",
       "      <td>6.8</td>\n",
       "      <td>760.0</td>\n",
       "      <td>https://www.drugs.com/doxycycline.html</td>\n",
       "      <td>https://www.drugs.com/condition/acne.html</td>\n",
       "    </tr>\n",
       "    <tr>\n",
       "      <th>1</th>\n",
       "      <td>spironolactone</td>\n",
       "      <td>Acne</td>\n",
       "      <td>hives ; difficulty breathing; swelling of your...</td>\n",
       "      <td>spironolactone</td>\n",
       "      <td>Aldosterone receptor antagonists, Potassium-sp...</td>\n",
       "      <td>Aldactone, CaroSpir</td>\n",
       "      <td>82%</td>\n",
       "      <td>Rx</td>\n",
       "      <td>C</td>\n",
       "      <td>N</td>\n",
       "      <td>X</td>\n",
       "      <td>amlodipine: https://www.drugs.com/amlodipine.h...</td>\n",
       "      <td>Acne Other names: Acne Vulgaris; Blackheads; B...</td>\n",
       "      <td>7.2</td>\n",
       "      <td>449.0</td>\n",
       "      <td>https://www.drugs.com/spironolactone.html</td>\n",
       "      <td>https://www.drugs.com/condition/acne.html</td>\n",
       "    </tr>\n",
       "    <tr>\n",
       "      <th>2</th>\n",
       "      <td>minocycline</td>\n",
       "      <td>Acne</td>\n",
       "      <td>skin rash, fever, swollen glands, flu-like sym...</td>\n",
       "      <td>minocycline</td>\n",
       "      <td>Tetracyclines</td>\n",
       "      <td>Dynacin, Minocin, Minolira, Solodyn, Ximino, V...</td>\n",
       "      <td>48%</td>\n",
       "      <td>Rx</td>\n",
       "      <td>D</td>\n",
       "      <td>N</td>\n",
       "      <td>NaN</td>\n",
       "      <td>amoxicillin: https://www.drugs.com/amoxicillin...</td>\n",
       "      <td>Acne Other names: Acne Vulgaris; Blackheads; B...</td>\n",
       "      <td>5.7</td>\n",
       "      <td>482.0</td>\n",
       "      <td>https://www.drugs.com/minocycline.html</td>\n",
       "      <td>https://www.drugs.com/condition/acne.html</td>\n",
       "    </tr>\n",
       "    <tr>\n",
       "      <th>3</th>\n",
       "      <td>Accutane</td>\n",
       "      <td>Acne</td>\n",
       "      <td>problems with your vision or hearing; muscle o...</td>\n",
       "      <td>isotretinoin (oral)</td>\n",
       "      <td>Miscellaneous antineoplastics, Miscellaneous u...</td>\n",
       "      <td>NaN</td>\n",
       "      <td>41%</td>\n",
       "      <td>Rx</td>\n",
       "      <td>X</td>\n",
       "      <td>N</td>\n",
       "      <td>X</td>\n",
       "      <td>doxycycline: https://www.drugs.com/doxycycline...</td>\n",
       "      <td>Acne Other names: Acne Vulgaris; Blackheads; B...</td>\n",
       "      <td>7.9</td>\n",
       "      <td>623.0</td>\n",
       "      <td>https://www.drugs.com/accutane.html</td>\n",
       "      <td>https://www.drugs.com/condition/acne.html</td>\n",
       "    </tr>\n",
       "    <tr>\n",
       "      <th>4</th>\n",
       "      <td>clindamycin</td>\n",
       "      <td>Acne</td>\n",
       "      <td>hives ; difficult breathing; swelling of your ...</td>\n",
       "      <td>clindamycin topical</td>\n",
       "      <td>Topical acne agents, Vaginal anti-infectives</td>\n",
       "      <td>Cleocin T, Clindacin ETZ, Clindacin P, Clindag...</td>\n",
       "      <td>39%</td>\n",
       "      <td>Rx</td>\n",
       "      <td>B</td>\n",
       "      <td>N</td>\n",
       "      <td>NaN</td>\n",
       "      <td>doxycycline: https://www.drugs.com/doxycycline...</td>\n",
       "      <td>Acne Other names: Acne Vulgaris; Blackheads; B...</td>\n",
       "      <td>7.4</td>\n",
       "      <td>146.0</td>\n",
       "      <td>https://www.drugs.com/mtm/clindamycin-topical....</td>\n",
       "      <td>https://www.drugs.com/condition/acne.html</td>\n",
       "    </tr>\n",
       "  </tbody>\n",
       "</table>\n",
       "</div>"
      ],
      "text/plain": [
       "        drug_name medical_condition  \\\n",
       "0     doxycycline              Acne   \n",
       "1  spironolactone              Acne   \n",
       "2     minocycline              Acne   \n",
       "3        Accutane              Acne   \n",
       "4     clindamycin              Acne   \n",
       "\n",
       "                                        side_effects         generic_name  \\\n",
       "0  (hives, difficult breathing, swelling in your ...          doxycycline   \n",
       "1  hives ; difficulty breathing; swelling of your...       spironolactone   \n",
       "2  skin rash, fever, swollen glands, flu-like sym...          minocycline   \n",
       "3  problems with your vision or hearing; muscle o...  isotretinoin (oral)   \n",
       "4  hives ; difficult breathing; swelling of your ...  clindamycin topical   \n",
       "\n",
       "                                        drug_classes  \\\n",
       "0         Miscellaneous antimalarials, Tetracyclines   \n",
       "1  Aldosterone receptor antagonists, Potassium-sp...   \n",
       "2                                      Tetracyclines   \n",
       "3  Miscellaneous antineoplastics, Miscellaneous u...   \n",
       "4       Topical acne agents, Vaginal anti-infectives   \n",
       "\n",
       "                                         brand_names activity rx_otc  \\\n",
       "0  Acticlate, Adoxa CK, Adoxa Pak, Adoxa TT, Alod...      87%     Rx   \n",
       "1                                Aldactone, CaroSpir      82%     Rx   \n",
       "2  Dynacin, Minocin, Minolira, Solodyn, Ximino, V...      48%     Rx   \n",
       "3                                                NaN      41%     Rx   \n",
       "4  Cleocin T, Clindacin ETZ, Clindacin P, Clindag...      39%     Rx   \n",
       "\n",
       "  pregnancy_category csa alcohol  \\\n",
       "0                  D   N       X   \n",
       "1                  C   N       X   \n",
       "2                  D   N     NaN   \n",
       "3                  X   N       X   \n",
       "4                  B   N     NaN   \n",
       "\n",
       "                                       related_drugs  \\\n",
       "0  amoxicillin: https://www.drugs.com/amoxicillin...   \n",
       "1  amlodipine: https://www.drugs.com/amlodipine.h...   \n",
       "2  amoxicillin: https://www.drugs.com/amoxicillin...   \n",
       "3  doxycycline: https://www.drugs.com/doxycycline...   \n",
       "4  doxycycline: https://www.drugs.com/doxycycline...   \n",
       "\n",
       "                       medical_condition_description  rating  no_of_reviews  \\\n",
       "0  Acne Other names: Acne Vulgaris; Blackheads; B...     6.8          760.0   \n",
       "1  Acne Other names: Acne Vulgaris; Blackheads; B...     7.2          449.0   \n",
       "2  Acne Other names: Acne Vulgaris; Blackheads; B...     5.7          482.0   \n",
       "3  Acne Other names: Acne Vulgaris; Blackheads; B...     7.9          623.0   \n",
       "4  Acne Other names: Acne Vulgaris; Blackheads; B...     7.4          146.0   \n",
       "\n",
       "                                           drug_link  \\\n",
       "0             https://www.drugs.com/doxycycline.html   \n",
       "1          https://www.drugs.com/spironolactone.html   \n",
       "2             https://www.drugs.com/minocycline.html   \n",
       "3                https://www.drugs.com/accutane.html   \n",
       "4  https://www.drugs.com/mtm/clindamycin-topical....   \n",
       "\n",
       "                       medical_condition_url  \n",
       "0  https://www.drugs.com/condition/acne.html  \n",
       "1  https://www.drugs.com/condition/acne.html  \n",
       "2  https://www.drugs.com/condition/acne.html  \n",
       "3  https://www.drugs.com/condition/acne.html  \n",
       "4  https://www.drugs.com/condition/acne.html  "
      ]
     },
     "execution_count": 6,
     "metadata": {},
     "output_type": "execute_result"
    }
   ],
   "source": [
    "df.head()"
   ]
  },
  {
   "cell_type": "code",
   "execution_count": 7,
   "id": "ea6d14fe",
   "metadata": {},
   "outputs": [],
   "source": [
    "# Dropping the 'brand_names' column and delete from dataset"
   ]
  },
  {
   "cell_type": "code",
   "execution_count": 8,
   "id": "6a5c2ddc",
   "metadata": {},
   "outputs": [],
   "source": [
    "df.drop(columns = ['brand_names'], inplace = True)"
   ]
  },
  {
   "cell_type": "code",
   "execution_count": 9,
   "id": "5136436e",
   "metadata": {},
   "outputs": [
    {
     "data": {
      "text/html": [
       "<div>\n",
       "<style scoped>\n",
       "    .dataframe tbody tr th:only-of-type {\n",
       "        vertical-align: middle;\n",
       "    }\n",
       "\n",
       "    .dataframe tbody tr th {\n",
       "        vertical-align: top;\n",
       "    }\n",
       "\n",
       "    .dataframe thead th {\n",
       "        text-align: right;\n",
       "    }\n",
       "</style>\n",
       "<table border=\"1\" class=\"dataframe\">\n",
       "  <thead>\n",
       "    <tr style=\"text-align: right;\">\n",
       "      <th></th>\n",
       "      <th>drug_name</th>\n",
       "      <th>medical_condition</th>\n",
       "      <th>side_effects</th>\n",
       "      <th>generic_name</th>\n",
       "      <th>drug_classes</th>\n",
       "      <th>activity</th>\n",
       "      <th>rx_otc</th>\n",
       "      <th>pregnancy_category</th>\n",
       "      <th>csa</th>\n",
       "      <th>alcohol</th>\n",
       "      <th>related_drugs</th>\n",
       "      <th>medical_condition_description</th>\n",
       "      <th>rating</th>\n",
       "      <th>no_of_reviews</th>\n",
       "      <th>drug_link</th>\n",
       "      <th>medical_condition_url</th>\n",
       "    </tr>\n",
       "  </thead>\n",
       "  <tbody>\n",
       "    <tr>\n",
       "      <th>0</th>\n",
       "      <td>doxycycline</td>\n",
       "      <td>Acne</td>\n",
       "      <td>(hives, difficult breathing, swelling in your ...</td>\n",
       "      <td>doxycycline</td>\n",
       "      <td>Miscellaneous antimalarials, Tetracyclines</td>\n",
       "      <td>87%</td>\n",
       "      <td>Rx</td>\n",
       "      <td>D</td>\n",
       "      <td>N</td>\n",
       "      <td>X</td>\n",
       "      <td>amoxicillin: https://www.drugs.com/amoxicillin...</td>\n",
       "      <td>Acne Other names: Acne Vulgaris; Blackheads; B...</td>\n",
       "      <td>6.8</td>\n",
       "      <td>760.0</td>\n",
       "      <td>https://www.drugs.com/doxycycline.html</td>\n",
       "      <td>https://www.drugs.com/condition/acne.html</td>\n",
       "    </tr>\n",
       "    <tr>\n",
       "      <th>1</th>\n",
       "      <td>spironolactone</td>\n",
       "      <td>Acne</td>\n",
       "      <td>hives ; difficulty breathing; swelling of your...</td>\n",
       "      <td>spironolactone</td>\n",
       "      <td>Aldosterone receptor antagonists, Potassium-sp...</td>\n",
       "      <td>82%</td>\n",
       "      <td>Rx</td>\n",
       "      <td>C</td>\n",
       "      <td>N</td>\n",
       "      <td>X</td>\n",
       "      <td>amlodipine: https://www.drugs.com/amlodipine.h...</td>\n",
       "      <td>Acne Other names: Acne Vulgaris; Blackheads; B...</td>\n",
       "      <td>7.2</td>\n",
       "      <td>449.0</td>\n",
       "      <td>https://www.drugs.com/spironolactone.html</td>\n",
       "      <td>https://www.drugs.com/condition/acne.html</td>\n",
       "    </tr>\n",
       "    <tr>\n",
       "      <th>2</th>\n",
       "      <td>minocycline</td>\n",
       "      <td>Acne</td>\n",
       "      <td>skin rash, fever, swollen glands, flu-like sym...</td>\n",
       "      <td>minocycline</td>\n",
       "      <td>Tetracyclines</td>\n",
       "      <td>48%</td>\n",
       "      <td>Rx</td>\n",
       "      <td>D</td>\n",
       "      <td>N</td>\n",
       "      <td>NaN</td>\n",
       "      <td>amoxicillin: https://www.drugs.com/amoxicillin...</td>\n",
       "      <td>Acne Other names: Acne Vulgaris; Blackheads; B...</td>\n",
       "      <td>5.7</td>\n",
       "      <td>482.0</td>\n",
       "      <td>https://www.drugs.com/minocycline.html</td>\n",
       "      <td>https://www.drugs.com/condition/acne.html</td>\n",
       "    </tr>\n",
       "    <tr>\n",
       "      <th>3</th>\n",
       "      <td>Accutane</td>\n",
       "      <td>Acne</td>\n",
       "      <td>problems with your vision or hearing; muscle o...</td>\n",
       "      <td>isotretinoin (oral)</td>\n",
       "      <td>Miscellaneous antineoplastics, Miscellaneous u...</td>\n",
       "      <td>41%</td>\n",
       "      <td>Rx</td>\n",
       "      <td>X</td>\n",
       "      <td>N</td>\n",
       "      <td>X</td>\n",
       "      <td>doxycycline: https://www.drugs.com/doxycycline...</td>\n",
       "      <td>Acne Other names: Acne Vulgaris; Blackheads; B...</td>\n",
       "      <td>7.9</td>\n",
       "      <td>623.0</td>\n",
       "      <td>https://www.drugs.com/accutane.html</td>\n",
       "      <td>https://www.drugs.com/condition/acne.html</td>\n",
       "    </tr>\n",
       "    <tr>\n",
       "      <th>4</th>\n",
       "      <td>clindamycin</td>\n",
       "      <td>Acne</td>\n",
       "      <td>hives ; difficult breathing; swelling of your ...</td>\n",
       "      <td>clindamycin topical</td>\n",
       "      <td>Topical acne agents, Vaginal anti-infectives</td>\n",
       "      <td>39%</td>\n",
       "      <td>Rx</td>\n",
       "      <td>B</td>\n",
       "      <td>N</td>\n",
       "      <td>NaN</td>\n",
       "      <td>doxycycline: https://www.drugs.com/doxycycline...</td>\n",
       "      <td>Acne Other names: Acne Vulgaris; Blackheads; B...</td>\n",
       "      <td>7.4</td>\n",
       "      <td>146.0</td>\n",
       "      <td>https://www.drugs.com/mtm/clindamycin-topical....</td>\n",
       "      <td>https://www.drugs.com/condition/acne.html</td>\n",
       "    </tr>\n",
       "  </tbody>\n",
       "</table>\n",
       "</div>"
      ],
      "text/plain": [
       "        drug_name medical_condition  \\\n",
       "0     doxycycline              Acne   \n",
       "1  spironolactone              Acne   \n",
       "2     minocycline              Acne   \n",
       "3        Accutane              Acne   \n",
       "4     clindamycin              Acne   \n",
       "\n",
       "                                        side_effects         generic_name  \\\n",
       "0  (hives, difficult breathing, swelling in your ...          doxycycline   \n",
       "1  hives ; difficulty breathing; swelling of your...       spironolactone   \n",
       "2  skin rash, fever, swollen glands, flu-like sym...          minocycline   \n",
       "3  problems with your vision or hearing; muscle o...  isotretinoin (oral)   \n",
       "4  hives ; difficult breathing; swelling of your ...  clindamycin topical   \n",
       "\n",
       "                                        drug_classes activity rx_otc  \\\n",
       "0         Miscellaneous antimalarials, Tetracyclines      87%     Rx   \n",
       "1  Aldosterone receptor antagonists, Potassium-sp...      82%     Rx   \n",
       "2                                      Tetracyclines      48%     Rx   \n",
       "3  Miscellaneous antineoplastics, Miscellaneous u...      41%     Rx   \n",
       "4       Topical acne agents, Vaginal anti-infectives      39%     Rx   \n",
       "\n",
       "  pregnancy_category csa alcohol  \\\n",
       "0                  D   N       X   \n",
       "1                  C   N       X   \n",
       "2                  D   N     NaN   \n",
       "3                  X   N       X   \n",
       "4                  B   N     NaN   \n",
       "\n",
       "                                       related_drugs  \\\n",
       "0  amoxicillin: https://www.drugs.com/amoxicillin...   \n",
       "1  amlodipine: https://www.drugs.com/amlodipine.h...   \n",
       "2  amoxicillin: https://www.drugs.com/amoxicillin...   \n",
       "3  doxycycline: https://www.drugs.com/doxycycline...   \n",
       "4  doxycycline: https://www.drugs.com/doxycycline...   \n",
       "\n",
       "                       medical_condition_description  rating  no_of_reviews  \\\n",
       "0  Acne Other names: Acne Vulgaris; Blackheads; B...     6.8          760.0   \n",
       "1  Acne Other names: Acne Vulgaris; Blackheads; B...     7.2          449.0   \n",
       "2  Acne Other names: Acne Vulgaris; Blackheads; B...     5.7          482.0   \n",
       "3  Acne Other names: Acne Vulgaris; Blackheads; B...     7.9          623.0   \n",
       "4  Acne Other names: Acne Vulgaris; Blackheads; B...     7.4          146.0   \n",
       "\n",
       "                                           drug_link  \\\n",
       "0             https://www.drugs.com/doxycycline.html   \n",
       "1          https://www.drugs.com/spironolactone.html   \n",
       "2             https://www.drugs.com/minocycline.html   \n",
       "3                https://www.drugs.com/accutane.html   \n",
       "4  https://www.drugs.com/mtm/clindamycin-topical....   \n",
       "\n",
       "                       medical_condition_url  \n",
       "0  https://www.drugs.com/condition/acne.html  \n",
       "1  https://www.drugs.com/condition/acne.html  \n",
       "2  https://www.drugs.com/condition/acne.html  \n",
       "3  https://www.drugs.com/condition/acne.html  \n",
       "4  https://www.drugs.com/condition/acne.html  "
      ]
     },
     "execution_count": 9,
     "metadata": {},
     "output_type": "execute_result"
    }
   ],
   "source": [
    "df.head()"
   ]
  },
  {
   "cell_type": "code",
   "execution_count": 10,
   "id": "ab4ca077",
   "metadata": {},
   "outputs": [],
   "source": [
    "# Find duplicate rows based on all columns\n"
   ]
  },
  {
   "cell_type": "code",
   "execution_count": 11,
   "id": "78118bbd",
   "metadata": {},
   "outputs": [],
   "source": [
    "duplicate_rows = df[df.duplicated()]"
   ]
  },
  {
   "cell_type": "code",
   "execution_count": 12,
   "id": "45617c9b",
   "metadata": {},
   "outputs": [],
   "source": [
    "#Count the duplicated rows"
   ]
  },
  {
   "cell_type": "code",
   "execution_count": 13,
   "id": "d5c366f9",
   "metadata": {},
   "outputs": [],
   "source": [
    "duplicate_count = duplicate_rows.shape[0]"
   ]
  },
  {
   "cell_type": "code",
   "execution_count": 14,
   "id": "5ea1d763",
   "metadata": {},
   "outputs": [
    {
     "name": "stdout",
     "output_type": "stream",
     "text": [
      "Count of duplicate rows: 0\n"
     ]
    }
   ],
   "source": [
    "print('Count of duplicate rows:', duplicate_count)"
   ]
  },
  {
   "cell_type": "code",
   "execution_count": 15,
   "id": "3425bdb0",
   "metadata": {},
   "outputs": [
    {
     "name": "stdout",
     "output_type": "stream",
     "text": [
      "Empty DataFrame\n",
      "Columns: [drug_name, medical_condition, side_effects, generic_name, drug_classes, activity, rx_otc, pregnancy_category, csa, alcohol, related_drugs, medical_condition_description, rating, no_of_reviews, drug_link, medical_condition_url]\n",
      "Index: []\n"
     ]
    }
   ],
   "source": [
    "print(duplicate_rows)"
   ]
  },
  {
   "cell_type": "code",
   "execution_count": 16,
   "id": "7d9cde8f",
   "metadata": {},
   "outputs": [],
   "source": [
    "# Convert 'rating' and 'no_of_reviews' attributes to numeric"
   ]
  },
  {
   "cell_type": "code",
   "execution_count": 17,
   "id": "236dbea4",
   "metadata": {},
   "outputs": [],
   "source": [
    "df['rating'] = pd.to_numeric(df['rating'], errors = 'coerce')"
   ]
  },
  {
   "cell_type": "code",
   "execution_count": 18,
   "id": "c2a7708f",
   "metadata": {},
   "outputs": [],
   "source": [
    "df['no_of_reviews'] = pd.to_numeric(df['no_of_reviews'], errors = 'coerce')"
   ]
  },
  {
   "cell_type": "code",
   "execution_count": 19,
   "id": "d51361b6",
   "metadata": {},
   "outputs": [
    {
     "name": "stdout",
     "output_type": "stream",
     "text": [
      "object     14\n",
      "float64     2\n",
      "dtype: int64\n"
     ]
    }
   ],
   "source": [
    "print(df.dtypes.value_counts())"
   ]
  },
  {
   "cell_type": "code",
   "execution_count": 20,
   "id": "720db0f5",
   "metadata": {},
   "outputs": [
    {
     "name": "stdout",
     "output_type": "stream",
     "text": [
      "<class 'pandas.core.frame.DataFrame'>\n",
      "RangeIndex: 2931 entries, 0 to 2930\n",
      "Data columns (total 16 columns):\n",
      " #   Column                         Non-Null Count  Dtype  \n",
      "---  ------                         --------------  -----  \n",
      " 0   drug_name                      2931 non-null   object \n",
      " 1   medical_condition              2931 non-null   object \n",
      " 2   side_effects                   2807 non-null   object \n",
      " 3   generic_name                   2888 non-null   object \n",
      " 4   drug_classes                   2849 non-null   object \n",
      " 5   activity                       2931 non-null   object \n",
      " 6   rx_otc                         2930 non-null   object \n",
      " 7   pregnancy_category             2702 non-null   object \n",
      " 8   csa                            2931 non-null   object \n",
      " 9   alcohol                        1377 non-null   object \n",
      " 10  related_drugs                  1462 non-null   object \n",
      " 11  medical_condition_description  2931 non-null   object \n",
      " 12  rating                         1586 non-null   float64\n",
      " 13  no_of_reviews                  1586 non-null   float64\n",
      " 14  drug_link                      2931 non-null   object \n",
      " 15  medical_condition_url          2931 non-null   object \n",
      "dtypes: float64(2), object(14)\n",
      "memory usage: 366.5+ KB\n"
     ]
    }
   ],
   "source": [
    "df.info()"
   ]
  },
  {
   "cell_type": "code",
   "execution_count": 21,
   "id": "065db609",
   "metadata": {},
   "outputs": [],
   "source": [
    "# Convert 'activity' to string, remove whitespace and '%' character, then convert to float and divide by 100"
   ]
  },
  {
   "cell_type": "code",
   "execution_count": 22,
   "id": "b93c8ceb",
   "metadata": {},
   "outputs": [],
   "source": [
    "df['activity'] = df['activity'].astype(str).str.replace(r'\\s+', '', regex = True).str.rstrip('%').astype('float')/100"
   ]
  },
  {
   "cell_type": "code",
   "execution_count": 23,
   "id": "d670dcb9",
   "metadata": {},
   "outputs": [
    {
     "name": "stdout",
     "output_type": "stream",
     "text": [
      "0    0.87\n",
      "1    0.82\n",
      "2    0.48\n",
      "3    0.41\n",
      "4    0.39\n",
      "Name: activity, dtype: float64\n"
     ]
    }
   ],
   "source": [
    "print(df['activity'].head())"
   ]
  },
  {
   "cell_type": "code",
   "execution_count": 24,
   "id": "d8095f9c",
   "metadata": {},
   "outputs": [],
   "source": [
    "# Print the total number of missing values"
   ]
  },
  {
   "cell_type": "code",
   "execution_count": 25,
   "id": "76133be6",
   "metadata": {},
   "outputs": [
    {
     "name": "stdout",
     "output_type": "stream",
     "text": [
      "There are 6192 missing values in this dataset\n"
     ]
    }
   ],
   "source": [
    "print(\"There are {} missing values in this dataset\".format(df.isnull().sum().sum()))\n"
   ]
  },
  {
   "cell_type": "code",
   "execution_count": 26,
   "id": "e439f4fa",
   "metadata": {},
   "outputs": [
    {
     "name": "stdout",
     "output_type": "stream",
     "text": [
      "Number of instances = 2931\n"
     ]
    }
   ],
   "source": [
    "print('Number of instances = %d' % (df.shape[0]))"
   ]
  },
  {
   "cell_type": "code",
   "execution_count": 27,
   "id": "f92a3327",
   "metadata": {},
   "outputs": [
    {
     "name": "stdout",
     "output_type": "stream",
     "text": [
      "Number of attributes = 16\n"
     ]
    }
   ],
   "source": [
    "print('Number of attributes = %d' % (df.shape[1]))\n"
   ]
  },
  {
   "cell_type": "code",
   "execution_count": 28,
   "id": "f7766811",
   "metadata": {
    "scrolled": true
   },
   "outputs": [
    {
     "name": "stdout",
     "output_type": "stream",
     "text": [
      "Number of missing values:\n",
      "\tdrug_name: 0\n",
      "\tmedical_condition: 0\n",
      "\tside_effects: 124\n",
      "\tgeneric_name: 43\n",
      "\tdrug_classes: 82\n",
      "\tactivity: 0\n",
      "\trx_otc: 1\n",
      "\tpregnancy_category: 229\n",
      "\tcsa: 0\n",
      "\talcohol: 1554\n",
      "\trelated_drugs: 1469\n",
      "\tmedical_condition_description: 0\n",
      "\trating: 1345\n",
      "\tno_of_reviews: 1345\n",
      "\tdrug_link: 0\n",
      "\tmedical_condition_url: 0\n"
     ]
    }
   ],
   "source": [
    "print('Number of missing values:')\n",
    "for col in df.columns:\n",
    "    print('\\t%s: %d' % (col,df[col].isna().sum()))"
   ]
  },
  {
   "cell_type": "code",
   "execution_count": 29,
   "id": "3fd17506",
   "metadata": {},
   "outputs": [],
   "source": [
    "# In the alcohol column we have X and null(NaN) values, because the drug can interact with alcohol or not.\n"
   ]
  },
  {
   "cell_type": "code",
   "execution_count": 30,
   "id": "9b052323",
   "metadata": {},
   "outputs": [],
   "source": [
    "df['alcohol'] = df['alcohol'].replace(np.NaN,'0')"
   ]
  },
  {
   "cell_type": "code",
   "execution_count": 31,
   "id": "32dd06e1",
   "metadata": {},
   "outputs": [],
   "source": [
    "df['alcohol'] = df['alcohol'].replace({'x' : 1})"
   ]
  },
  {
   "cell_type": "code",
   "execution_count": 32,
   "id": "228a0b84",
   "metadata": {},
   "outputs": [],
   "source": [
    "# Fill the null values in 'side_effects' and 'related_drugs' with no"
   ]
  },
  {
   "cell_type": "code",
   "execution_count": 33,
   "id": "d88002fa",
   "metadata": {},
   "outputs": [],
   "source": [
    "df['side_effects'] = df['side_effects'].fillna('Unknown')"
   ]
  },
  {
   "cell_type": "code",
   "execution_count": 34,
   "id": "35481652",
   "metadata": {},
   "outputs": [],
   "source": [
    "df['related_drugs'] = df['related_drugs'].fillna('Unknown')"
   ]
  },
  {
   "cell_type": "code",
   "execution_count": 35,
   "id": "9a691f74",
   "metadata": {},
   "outputs": [],
   "source": [
    "# Fill the null values with 0 as a base for 'rating' and 'no_of_reviews' columns"
   ]
  },
  {
   "cell_type": "code",
   "execution_count": 36,
   "id": "8d99796d",
   "metadata": {},
   "outputs": [],
   "source": [
    "df['rating'] = df['rating'].fillna('0')"
   ]
  },
  {
   "cell_type": "code",
   "execution_count": 37,
   "id": "da04a254",
   "metadata": {},
   "outputs": [],
   "source": [
    "df['no_of_reviews'] = df['no_of_reviews'].fillna('0')"
   ]
  },
  {
   "cell_type": "code",
   "execution_count": 38,
   "id": "f36844d0",
   "metadata": {},
   "outputs": [],
   "source": [
    "# Fill the null values with undefined for 'generic_name'\n"
   ]
  },
  {
   "cell_type": "code",
   "execution_count": 39,
   "id": "44797bd9",
   "metadata": {},
   "outputs": [],
   "source": [
    "df['generic_name'] = df['generic_name'].replace(np.NaN,'Unknown')"
   ]
  },
  {
   "cell_type": "code",
   "execution_count": 40,
   "id": "1ddde4fb",
   "metadata": {},
   "outputs": [],
   "source": [
    "# Fill the null values with undefined for 'drug_classes'\n"
   ]
  },
  {
   "cell_type": "code",
   "execution_count": 41,
   "id": "e93dd428",
   "metadata": {},
   "outputs": [],
   "source": [
    "df['drug_classes'] = df['drug_classes'].replace(np.NaN,'Unknown')"
   ]
  },
  {
   "cell_type": "code",
   "execution_count": 42,
   "id": "94d78bea",
   "metadata": {},
   "outputs": [],
   "source": [
    "# For these two columns we already have some category values from dataset's description\n",
    "# For Rx_OTC"
   ]
  },
  {
   "cell_type": "code",
   "execution_count": 43,
   "id": "7bf386c9",
   "metadata": {},
   "outputs": [
    {
     "data": {
      "text/plain": [
       "array(['Rx', 'Rx/OTC', 'OTC', nan], dtype=object)"
      ]
     },
     "execution_count": 43,
     "metadata": {},
     "output_type": "execute_result"
    }
   ],
   "source": [
    "df['rx_otc'].unique()"
   ]
  },
  {
   "cell_type": "code",
   "execution_count": 44,
   "id": "a5f756ec",
   "metadata": {},
   "outputs": [],
   "source": [
    "# For pregnancy categories\n"
   ]
  },
  {
   "cell_type": "code",
   "execution_count": 45,
   "id": "24398a13",
   "metadata": {},
   "outputs": [
    {
     "data": {
      "text/plain": [
       "array(['D', 'C', 'X', 'B', 'N', nan, 'A'], dtype=object)"
      ]
     },
     "execution_count": 45,
     "metadata": {},
     "output_type": "execute_result"
    }
   ],
   "source": [
    "df['pregnancy_category'].unique()"
   ]
  },
  {
   "cell_type": "code",
   "execution_count": 46,
   "id": "42e01630",
   "metadata": {},
   "outputs": [],
   "source": [
    "# Fill the null value with Unknown as a basic value\n"
   ]
  },
  {
   "cell_type": "code",
   "execution_count": 47,
   "id": "89d019d9",
   "metadata": {},
   "outputs": [],
   "source": [
    "df['rx_otc'] = df['rx_otc'].replace(np.NaN,'Unknown')\n"
   ]
  },
  {
   "cell_type": "code",
   "execution_count": 48,
   "id": "cd838a6e",
   "metadata": {},
   "outputs": [],
   "source": [
    "# Fill the null value with Unknown as a basic value\n"
   ]
  },
  {
   "cell_type": "code",
   "execution_count": 49,
   "id": "c481357e",
   "metadata": {},
   "outputs": [],
   "source": [
    "df['pregnancy_category'] = df['pregnancy_category'].replace(np.NaN,'Unknown')\n"
   ]
  },
  {
   "cell_type": "code",
   "execution_count": 50,
   "id": "7ccd5e90",
   "metadata": {},
   "outputs": [],
   "source": [
    "df['rating'] = pd.to_numeric(df['rating'], errors = 'coerce')"
   ]
  },
  {
   "cell_type": "code",
   "execution_count": 51,
   "id": "88b480a8",
   "metadata": {},
   "outputs": [],
   "source": [
    "df['no_of_reviews'] = pd.to_numeric(df['no_of_reviews'], errors = 'coerce')"
   ]
  },
  {
   "cell_type": "code",
   "execution_count": 52,
   "id": "f0d980ce",
   "metadata": {},
   "outputs": [
    {
     "name": "stdout",
     "output_type": "stream",
     "text": [
      "        drug_name medical_condition  \\\n",
      "0     doxycycline              Acne   \n",
      "1  spironolactone              Acne   \n",
      "2     minocycline              Acne   \n",
      "3        Accutane              Acne   \n",
      "4     clindamycin              Acne   \n",
      "\n",
      "                                        side_effects         generic_name  \\\n",
      "0  (hives, difficult breathing, swelling in your ...          doxycycline   \n",
      "1  hives ; difficulty breathing; swelling of your...       spironolactone   \n",
      "2  skin rash, fever, swollen glands, flu-like sym...          minocycline   \n",
      "3  problems with your vision or hearing; muscle o...  isotretinoin (oral)   \n",
      "4  hives ; difficult breathing; swelling of your ...  clindamycin topical   \n",
      "\n",
      "                                        drug_classes  activity rx_otc  \\\n",
      "0         Miscellaneous antimalarials, Tetracyclines      0.87     Rx   \n",
      "1  Aldosterone receptor antagonists, Potassium-sp...      0.82     Rx   \n",
      "2                                      Tetracyclines      0.48     Rx   \n",
      "3  Miscellaneous antineoplastics, Miscellaneous u...      0.41     Rx   \n",
      "4       Topical acne agents, Vaginal anti-infectives      0.39     Rx   \n",
      "\n",
      "  pregnancy_category csa alcohol  \\\n",
      "0                  D   N       X   \n",
      "1                  C   N       X   \n",
      "2                  D   N       0   \n",
      "3                  X   N       X   \n",
      "4                  B   N       0   \n",
      "\n",
      "                                       related_drugs  \\\n",
      "0  amoxicillin: https://www.drugs.com/amoxicillin...   \n",
      "1  amlodipine: https://www.drugs.com/amlodipine.h...   \n",
      "2  amoxicillin: https://www.drugs.com/amoxicillin...   \n",
      "3  doxycycline: https://www.drugs.com/doxycycline...   \n",
      "4  doxycycline: https://www.drugs.com/doxycycline...   \n",
      "\n",
      "                       medical_condition_description  rating  no_of_reviews  \\\n",
      "0  Acne Other names: Acne Vulgaris; Blackheads; B...     6.8          760.0   \n",
      "1  Acne Other names: Acne Vulgaris; Blackheads; B...     7.2          449.0   \n",
      "2  Acne Other names: Acne Vulgaris; Blackheads; B...     5.7          482.0   \n",
      "3  Acne Other names: Acne Vulgaris; Blackheads; B...     7.9          623.0   \n",
      "4  Acne Other names: Acne Vulgaris; Blackheads; B...     7.4          146.0   \n",
      "\n",
      "                                           drug_link  \\\n",
      "0             https://www.drugs.com/doxycycline.html   \n",
      "1          https://www.drugs.com/spironolactone.html   \n",
      "2             https://www.drugs.com/minocycline.html   \n",
      "3                https://www.drugs.com/accutane.html   \n",
      "4  https://www.drugs.com/mtm/clindamycin-topical....   \n",
      "\n",
      "                       medical_condition_url  \n",
      "0  https://www.drugs.com/condition/acne.html  \n",
      "1  https://www.drugs.com/condition/acne.html  \n",
      "2  https://www.drugs.com/condition/acne.html  \n",
      "3  https://www.drugs.com/condition/acne.html  \n",
      "4  https://www.drugs.com/condition/acne.html  \n"
     ]
    }
   ],
   "source": [
    "print(df.head())"
   ]
  },
  {
   "cell_type": "code",
   "execution_count": 53,
   "id": "d4223be6",
   "metadata": {},
   "outputs": [],
   "source": [
    "dfs = df.copy()"
   ]
  },
  {
   "cell_type": "code",
   "execution_count": 54,
   "id": "2a5230b8",
   "metadata": {},
   "outputs": [
    {
     "name": "stdout",
     "output_type": "stream",
     "text": [
      "There are 0 missing values in this dataset\n"
     ]
    }
   ],
   "source": [
    "print(\"There are {} missing values in this dataset\".format(df.isnull().sum().sum()))\n"
   ]
  },
  {
   "cell_type": "code",
   "execution_count": 55,
   "id": "07b10e4e",
   "metadata": {},
   "outputs": [
    {
     "name": "stdout",
     "output_type": "stream",
     "text": [
      "Number of instances = 2931\n"
     ]
    }
   ],
   "source": [
    "print('Number of instances = %d' % (df.shape[0]))\n"
   ]
  },
  {
   "cell_type": "code",
   "execution_count": 56,
   "id": "68e5f3da",
   "metadata": {},
   "outputs": [
    {
     "name": "stdout",
     "output_type": "stream",
     "text": [
      "Number of attributes = 16\n"
     ]
    }
   ],
   "source": [
    "print('Number of attributes = %d' % (df.shape[1]))\n"
   ]
  },
  {
   "cell_type": "code",
   "execution_count": 57,
   "id": "e389ac14",
   "metadata": {},
   "outputs": [
    {
     "name": "stdout",
     "output_type": "stream",
     "text": [
      "Number of missing values:\n",
      "\tdrug_name: 0\n",
      "\tmedical_condition: 0\n",
      "\tside_effects: 0\n",
      "\tgeneric_name: 0\n",
      "\tdrug_classes: 0\n",
      "\tactivity: 0\n",
      "\trx_otc: 0\n",
      "\tpregnancy_category: 0\n",
      "\tcsa: 0\n",
      "\talcohol: 0\n",
      "\trelated_drugs: 0\n",
      "\tmedical_condition_description: 0\n",
      "\trating: 0\n",
      "\tno_of_reviews: 0\n",
      "\tdrug_link: 0\n",
      "\tmedical_condition_url: 0\n"
     ]
    }
   ],
   "source": [
    "print('Number of missing values:')\n",
    "for col in df.columns:\n",
    "    print('\\t%s: %d' % (col,df[col].isna().sum()))"
   ]
  },
  {
   "cell_type": "code",
   "execution_count": 58,
   "id": "8d7ea408",
   "metadata": {},
   "outputs": [],
   "source": [
    "df_version2 = df.copy()"
   ]
  },
  {
   "cell_type": "code",
   "execution_count": 59,
   "id": "3c2ff595",
   "metadata": {},
   "outputs": [
    {
     "name": "stdout",
     "output_type": "stream",
     "text": [
      "        drug_name medical_condition  \\\n",
      "0     doxycycline              Acne   \n",
      "1  spironolactone              Acne   \n",
      "2     minocycline              Acne   \n",
      "3        Accutane              Acne   \n",
      "4     clindamycin              Acne   \n",
      "\n",
      "                                        side_effects         generic_name  \\\n",
      "0  (hives, difficult breathing, swelling in your ...          doxycycline   \n",
      "1  hives ; difficulty breathing; swelling of your...       spironolactone   \n",
      "2  skin rash, fever, swollen glands, flu-like sym...          minocycline   \n",
      "3  problems with your vision or hearing; muscle o...  isotretinoin (oral)   \n",
      "4  hives ; difficult breathing; swelling of your ...  clindamycin topical   \n",
      "\n",
      "                                        drug_classes  activity rx_otc  \\\n",
      "0         Miscellaneous antimalarials, Tetracyclines      0.87     Rx   \n",
      "1  Aldosterone receptor antagonists, Potassium-sp...      0.82     Rx   \n",
      "2                                      Tetracyclines      0.48     Rx   \n",
      "3  Miscellaneous antineoplastics, Miscellaneous u...      0.41     Rx   \n",
      "4       Topical acne agents, Vaginal anti-infectives      0.39     Rx   \n",
      "\n",
      "  pregnancy_category csa alcohol  \\\n",
      "0                  D   N       X   \n",
      "1                  C   N       X   \n",
      "2                  D   N       0   \n",
      "3                  X   N       X   \n",
      "4                  B   N       0   \n",
      "\n",
      "                                       related_drugs  \\\n",
      "0  amoxicillin: https://www.drugs.com/amoxicillin...   \n",
      "1  amlodipine: https://www.drugs.com/amlodipine.h...   \n",
      "2  amoxicillin: https://www.drugs.com/amoxicillin...   \n",
      "3  doxycycline: https://www.drugs.com/doxycycline...   \n",
      "4  doxycycline: https://www.drugs.com/doxycycline...   \n",
      "\n",
      "                       medical_condition_description  rating  no_of_reviews  \\\n",
      "0  Acne Other names: Acne Vulgaris; Blackheads; B...     6.8          760.0   \n",
      "1  Acne Other names: Acne Vulgaris; Blackheads; B...     7.2          449.0   \n",
      "2  Acne Other names: Acne Vulgaris; Blackheads; B...     5.7          482.0   \n",
      "3  Acne Other names: Acne Vulgaris; Blackheads; B...     7.9          623.0   \n",
      "4  Acne Other names: Acne Vulgaris; Blackheads; B...     7.4          146.0   \n",
      "\n",
      "                                           drug_link  \\\n",
      "0             https://www.drugs.com/doxycycline.html   \n",
      "1          https://www.drugs.com/spironolactone.html   \n",
      "2             https://www.drugs.com/minocycline.html   \n",
      "3                https://www.drugs.com/accutane.html   \n",
      "4  https://www.drugs.com/mtm/clindamycin-topical....   \n",
      "\n",
      "                       medical_condition_url  \n",
      "0  https://www.drugs.com/condition/acne.html  \n",
      "1  https://www.drugs.com/condition/acne.html  \n",
      "2  https://www.drugs.com/condition/acne.html  \n",
      "3  https://www.drugs.com/condition/acne.html  \n",
      "4  https://www.drugs.com/condition/acne.html  \n"
     ]
    }
   ],
   "source": [
    "print(df_version2.head())\n"
   ]
  },
  {
   "cell_type": "code",
   "execution_count": 60,
   "id": "efe41a90",
   "metadata": {},
   "outputs": [],
   "source": [
    "# Save the data\n"
   ]
  },
  {
   "cell_type": "code",
   "execution_count": 61,
   "id": "60b683dd",
   "metadata": {},
   "outputs": [],
   "source": [
    "df_version2.to_csv('drugs_side_effects_drugs_com_version2.csv', index=False)\n"
   ]
  },
  {
   "cell_type": "code",
   "execution_count": 62,
   "id": "08196863",
   "metadata": {},
   "outputs": [],
   "source": [
    "# Read the new version of dataset\n"
   ]
  },
  {
   "cell_type": "code",
   "execution_count": 63,
   "id": "2acd77bb",
   "metadata": {},
   "outputs": [],
   "source": [
    "df_ver3 = pd.read_csv('drugs_side_effects_drugs_com_version2.csv')\n"
   ]
  },
  {
   "cell_type": "code",
   "execution_count": 64,
   "id": "eeffef5f",
   "metadata": {},
   "outputs": [
    {
     "data": {
      "text/plain": [
       "array(['D', 'C', 'X', 'B', 'N', 'Unknown', 'A'], dtype=object)"
      ]
     },
     "execution_count": 64,
     "metadata": {},
     "output_type": "execute_result"
    }
   ],
   "source": [
    "df_ver3['pregnancy_category'].unique()"
   ]
  },
  {
   "cell_type": "code",
   "execution_count": 65,
   "id": "2327cbfe",
   "metadata": {},
   "outputs": [
    {
     "data": {
      "text/plain": [
       "array(['N', '2', '4', 'U', 'M', '5', '3'], dtype=object)"
      ]
     },
     "execution_count": 65,
     "metadata": {},
     "output_type": "execute_result"
    }
   ],
   "source": [
    "df_ver3['csa'].unique()"
   ]
  },
  {
   "cell_type": "code",
   "execution_count": 66,
   "id": "7fd6eca2",
   "metadata": {},
   "outputs": [
    {
     "data": {
      "text/plain": [
       "array(['Rx', 'Rx/OTC', 'OTC', 'Unknown'], dtype=object)"
      ]
     },
     "execution_count": 66,
     "metadata": {},
     "output_type": "execute_result"
    }
   ],
   "source": [
    "df_ver3['rx_otc'].unique()"
   ]
  },
  {
   "cell_type": "code",
   "execution_count": 67,
   "id": "c3e9809b",
   "metadata": {},
   "outputs": [
    {
     "data": {
      "text/plain": [
       "array(['doxycycline', 'spironolactone', 'minocycline', ...,\n",
       "       'fenfluramine', 'phendimetrazine tartrate', 'setmelanotide'],\n",
       "      dtype=object)"
      ]
     },
     "execution_count": 67,
     "metadata": {},
     "output_type": "execute_result"
    }
   ],
   "source": [
    "df_ver3['generic_name'].unique()"
   ]
  },
  {
   "cell_type": "code",
   "execution_count": 68,
   "id": "59e2cab2",
   "metadata": {},
   "outputs": [
    {
     "data": {
      "text/plain": [
       "array(['Acne', 'ADHD', 'AIDS/HIV', 'Allergies', \"Alzheimer's\", 'Angina',\n",
       "       'Anxiety', 'Asthma', 'Bipolar Disorder', 'Bronchitis', 'Cancer',\n",
       "       'Cholesterol', 'Colds & Flu', 'Constipation', 'COPD', 'Covid 19',\n",
       "       'Depression', 'Diabetes (Type 1)', 'Diabetes (Type 2)', 'Diarrhea',\n",
       "       'Eczema', 'Erectile Dysfunction', 'Gastrointestinal',\n",
       "       'GERD (Heartburn)', 'Gout', 'Hair Loss', 'Hayfever', 'Herpes',\n",
       "       'Hypertension', 'Hypothyroidism', 'IBD (Bowel)', 'Incontinence',\n",
       "       'Insomnia', 'Menopause', 'Migraine', 'Osteoarthritis',\n",
       "       'Osteoporosis', 'Pain', 'Pneumonia', 'Psoriasis',\n",
       "       'Rheumatoid Arthritis', 'Schizophrenia', 'Seizures', 'Stroke',\n",
       "       'Swine Flu', 'UTI', 'Weight Loss'], dtype=object)"
      ]
     },
     "execution_count": 68,
     "metadata": {},
     "output_type": "execute_result"
    }
   ],
   "source": [
    "df_ver3['medical_condition'].unique()"
   ]
  },
  {
   "cell_type": "code",
   "execution_count": 69,
   "id": "2d5a8fd2",
   "metadata": {},
   "outputs": [
    {
     "data": {
      "text/html": [
       "<div>\n",
       "<style scoped>\n",
       "    .dataframe tbody tr th:only-of-type {\n",
       "        vertical-align: middle;\n",
       "    }\n",
       "\n",
       "    .dataframe tbody tr th {\n",
       "        vertical-align: top;\n",
       "    }\n",
       "\n",
       "    .dataframe thead th {\n",
       "        text-align: right;\n",
       "    }\n",
       "</style>\n",
       "<table border=\"1\" class=\"dataframe\">\n",
       "  <thead>\n",
       "    <tr style=\"text-align: right;\">\n",
       "      <th></th>\n",
       "      <th>drug_name</th>\n",
       "      <th>medical_condition</th>\n",
       "      <th>side_effects</th>\n",
       "      <th>generic_name</th>\n",
       "      <th>drug_classes</th>\n",
       "      <th>activity</th>\n",
       "      <th>rx_otc</th>\n",
       "      <th>pregnancy_category</th>\n",
       "      <th>csa</th>\n",
       "      <th>alcohol</th>\n",
       "      <th>related_drugs</th>\n",
       "      <th>medical_condition_description</th>\n",
       "      <th>rating</th>\n",
       "      <th>no_of_reviews</th>\n",
       "      <th>drug_link</th>\n",
       "      <th>medical_condition_url</th>\n",
       "    </tr>\n",
       "  </thead>\n",
       "  <tbody>\n",
       "    <tr>\n",
       "      <th>0</th>\n",
       "      <td>doxycycline</td>\n",
       "      <td>Acne</td>\n",
       "      <td>(hives, difficult breathing, swelling in your ...</td>\n",
       "      <td>doxycycline</td>\n",
       "      <td>Miscellaneous antimalarials, Tetracyclines</td>\n",
       "      <td>0.87</td>\n",
       "      <td>Rx</td>\n",
       "      <td>D</td>\n",
       "      <td>N</td>\n",
       "      <td>X</td>\n",
       "      <td>amoxicillin: https://www.drugs.com/amoxicillin...</td>\n",
       "      <td>Acne Other names: Acne Vulgaris; Blackheads; B...</td>\n",
       "      <td>6.8</td>\n",
       "      <td>760.0</td>\n",
       "      <td>https://www.drugs.com/doxycycline.html</td>\n",
       "      <td>https://www.drugs.com/condition/acne.html</td>\n",
       "    </tr>\n",
       "    <tr>\n",
       "      <th>1</th>\n",
       "      <td>spironolactone</td>\n",
       "      <td>Acne</td>\n",
       "      <td>hives ; difficulty breathing; swelling of your...</td>\n",
       "      <td>spironolactone</td>\n",
       "      <td>Aldosterone receptor antagonists, Potassium-sp...</td>\n",
       "      <td>0.82</td>\n",
       "      <td>Rx</td>\n",
       "      <td>C</td>\n",
       "      <td>N</td>\n",
       "      <td>X</td>\n",
       "      <td>amlodipine: https://www.drugs.com/amlodipine.h...</td>\n",
       "      <td>Acne Other names: Acne Vulgaris; Blackheads; B...</td>\n",
       "      <td>7.2</td>\n",
       "      <td>449.0</td>\n",
       "      <td>https://www.drugs.com/spironolactone.html</td>\n",
       "      <td>https://www.drugs.com/condition/acne.html</td>\n",
       "    </tr>\n",
       "    <tr>\n",
       "      <th>2</th>\n",
       "      <td>minocycline</td>\n",
       "      <td>Acne</td>\n",
       "      <td>skin rash, fever, swollen glands, flu-like sym...</td>\n",
       "      <td>minocycline</td>\n",
       "      <td>Tetracyclines</td>\n",
       "      <td>0.48</td>\n",
       "      <td>Rx</td>\n",
       "      <td>D</td>\n",
       "      <td>N</td>\n",
       "      <td>0</td>\n",
       "      <td>amoxicillin: https://www.drugs.com/amoxicillin...</td>\n",
       "      <td>Acne Other names: Acne Vulgaris; Blackheads; B...</td>\n",
       "      <td>5.7</td>\n",
       "      <td>482.0</td>\n",
       "      <td>https://www.drugs.com/minocycline.html</td>\n",
       "      <td>https://www.drugs.com/condition/acne.html</td>\n",
       "    </tr>\n",
       "    <tr>\n",
       "      <th>3</th>\n",
       "      <td>Accutane</td>\n",
       "      <td>Acne</td>\n",
       "      <td>problems with your vision or hearing; muscle o...</td>\n",
       "      <td>isotretinoin (oral)</td>\n",
       "      <td>Miscellaneous antineoplastics, Miscellaneous u...</td>\n",
       "      <td>0.41</td>\n",
       "      <td>Rx</td>\n",
       "      <td>X</td>\n",
       "      <td>N</td>\n",
       "      <td>X</td>\n",
       "      <td>doxycycline: https://www.drugs.com/doxycycline...</td>\n",
       "      <td>Acne Other names: Acne Vulgaris; Blackheads; B...</td>\n",
       "      <td>7.9</td>\n",
       "      <td>623.0</td>\n",
       "      <td>https://www.drugs.com/accutane.html</td>\n",
       "      <td>https://www.drugs.com/condition/acne.html</td>\n",
       "    </tr>\n",
       "    <tr>\n",
       "      <th>4</th>\n",
       "      <td>clindamycin</td>\n",
       "      <td>Acne</td>\n",
       "      <td>hives ; difficult breathing; swelling of your ...</td>\n",
       "      <td>clindamycin topical</td>\n",
       "      <td>Topical acne agents, Vaginal anti-infectives</td>\n",
       "      <td>0.39</td>\n",
       "      <td>Rx</td>\n",
       "      <td>B</td>\n",
       "      <td>N</td>\n",
       "      <td>0</td>\n",
       "      <td>doxycycline: https://www.drugs.com/doxycycline...</td>\n",
       "      <td>Acne Other names: Acne Vulgaris; Blackheads; B...</td>\n",
       "      <td>7.4</td>\n",
       "      <td>146.0</td>\n",
       "      <td>https://www.drugs.com/mtm/clindamycin-topical....</td>\n",
       "      <td>https://www.drugs.com/condition/acne.html</td>\n",
       "    </tr>\n",
       "    <tr>\n",
       "      <th>5</th>\n",
       "      <td>Aldactone</td>\n",
       "      <td>Acne</td>\n",
       "      <td>hives ; difficulty breathing; swelling of your...</td>\n",
       "      <td>spironolactone</td>\n",
       "      <td>Aldosterone receptor antagonists, Potassium-sp...</td>\n",
       "      <td>0.35</td>\n",
       "      <td>Rx</td>\n",
       "      <td>C</td>\n",
       "      <td>N</td>\n",
       "      <td>X</td>\n",
       "      <td>amlodipine: https://www.drugs.com/amlodipine.h...</td>\n",
       "      <td>Acne Other names: Acne Vulgaris; Blackheads; B...</td>\n",
       "      <td>7.6</td>\n",
       "      <td>8.0</td>\n",
       "      <td>https://www.drugs.com/aldactone.html</td>\n",
       "      <td>https://www.drugs.com/condition/acne.html</td>\n",
       "    </tr>\n",
       "    <tr>\n",
       "      <th>6</th>\n",
       "      <td>tretinoin</td>\n",
       "      <td>Acne</td>\n",
       "      <td>hives ; difficult breathing; swelling of your ...</td>\n",
       "      <td>tretinoin topical</td>\n",
       "      <td>Topical acne agents</td>\n",
       "      <td>0.30</td>\n",
       "      <td>Rx</td>\n",
       "      <td>C</td>\n",
       "      <td>N</td>\n",
       "      <td>0</td>\n",
       "      <td>Unknown</td>\n",
       "      <td>Acne Other names: Acne Vulgaris; Blackheads; B...</td>\n",
       "      <td>7.7</td>\n",
       "      <td>439.0</td>\n",
       "      <td>https://www.drugs.com/mtm/tretinoin-topical.html</td>\n",
       "      <td>https://www.drugs.com/condition/acne.html</td>\n",
       "    </tr>\n",
       "    <tr>\n",
       "      <th>7</th>\n",
       "      <td>isotretinoin</td>\n",
       "      <td>Acne</td>\n",
       "      <td>problems with your vision or hearing; muscle o...</td>\n",
       "      <td>isotretinoin (oral)</td>\n",
       "      <td>Miscellaneous antineoplastics, Miscellaneous u...</td>\n",
       "      <td>0.26</td>\n",
       "      <td>Rx</td>\n",
       "      <td>X</td>\n",
       "      <td>N</td>\n",
       "      <td>X</td>\n",
       "      <td>doxycycline: https://www.drugs.com/doxycycline...</td>\n",
       "      <td>Acne Other names: Acne Vulgaris; Blackheads; B...</td>\n",
       "      <td>8.0</td>\n",
       "      <td>999.0</td>\n",
       "      <td>https://www.drugs.com/mtm/isotretinoin.html</td>\n",
       "      <td>https://www.drugs.com/condition/acne.html</td>\n",
       "    </tr>\n",
       "    <tr>\n",
       "      <th>8</th>\n",
       "      <td>Bactrim</td>\n",
       "      <td>Acne</td>\n",
       "      <td>skin rash, fever, swollen glands, joint pain, ...</td>\n",
       "      <td>sulfamethoxazole and trimethoprim</td>\n",
       "      <td>Sulfonamides</td>\n",
       "      <td>0.20</td>\n",
       "      <td>Rx</td>\n",
       "      <td>D</td>\n",
       "      <td>N</td>\n",
       "      <td>X</td>\n",
       "      <td>Unknown</td>\n",
       "      <td>Acne Other names: Acne Vulgaris; Blackheads; B...</td>\n",
       "      <td>8.5</td>\n",
       "      <td>96.0</td>\n",
       "      <td>https://www.drugs.com/bactrim.html</td>\n",
       "      <td>https://www.drugs.com/condition/acne.html</td>\n",
       "    </tr>\n",
       "    <tr>\n",
       "      <th>9</th>\n",
       "      <td>Retin-A</td>\n",
       "      <td>Acne</td>\n",
       "      <td>hives; difficult breathing; swelling of your f...</td>\n",
       "      <td>Retin-A</td>\n",
       "      <td>Topical acne agents</td>\n",
       "      <td>0.17</td>\n",
       "      <td>Rx</td>\n",
       "      <td>C</td>\n",
       "      <td>N</td>\n",
       "      <td>0</td>\n",
       "      <td>Unknown</td>\n",
       "      <td>Acne Other names: Acne Vulgaris; Blackheads; B...</td>\n",
       "      <td>7.9</td>\n",
       "      <td>86.0</td>\n",
       "      <td>https://www.drugs.com/retin-a.html</td>\n",
       "      <td>https://www.drugs.com/condition/acne.html</td>\n",
       "    </tr>\n",
       "    <tr>\n",
       "      <th>10</th>\n",
       "      <td>Aczone</td>\n",
       "      <td>Acne</td>\n",
       "      <td>hives; difficult breathing; swelling of your f...</td>\n",
       "      <td>dapsone topical</td>\n",
       "      <td>Topical acne agents</td>\n",
       "      <td>0.13</td>\n",
       "      <td>Rx</td>\n",
       "      <td>C</td>\n",
       "      <td>N</td>\n",
       "      <td>0</td>\n",
       "      <td>doxycycline: https://www.drugs.com/doxycycline...</td>\n",
       "      <td>Acne Other names: Acne Vulgaris; Blackheads; B...</td>\n",
       "      <td>7.4</td>\n",
       "      <td>227.0</td>\n",
       "      <td>https://www.drugs.com/aczone.html</td>\n",
       "      <td>https://www.drugs.com/condition/acne.html</td>\n",
       "    </tr>\n",
       "    <tr>\n",
       "      <th>11</th>\n",
       "      <td>benzoyl peroxide</td>\n",
       "      <td>Acne</td>\n",
       "      <td>Benzoyl peroxide topical can cause a rare but ...</td>\n",
       "      <td>benzoyl peroxide topical</td>\n",
       "      <td>Topical acne agents</td>\n",
       "      <td>0.13</td>\n",
       "      <td>Rx/OTC</td>\n",
       "      <td>C</td>\n",
       "      <td>N</td>\n",
       "      <td>0</td>\n",
       "      <td>doxycycline: https://www.drugs.com/doxycycline...</td>\n",
       "      <td>Acne Other names: Acne Vulgaris; Blackheads; B...</td>\n",
       "      <td>7.8</td>\n",
       "      <td>51.0</td>\n",
       "      <td>https://www.drugs.com/mtm/benzoyl-peroxide-top...</td>\n",
       "      <td>https://www.drugs.com/condition/acne.html</td>\n",
       "    </tr>\n",
       "    <tr>\n",
       "      <th>12</th>\n",
       "      <td>Differin</td>\n",
       "      <td>Acne</td>\n",
       "      <td>hives, itching; chest pain, difficult breathin...</td>\n",
       "      <td>adapalene topical</td>\n",
       "      <td>Topical acne agents</td>\n",
       "      <td>0.12</td>\n",
       "      <td>Rx/OTC</td>\n",
       "      <td>C</td>\n",
       "      <td>N</td>\n",
       "      <td>0</td>\n",
       "      <td>doxycycline: https://www.drugs.com/doxycycline...</td>\n",
       "      <td>Acne Other names: Acne Vulgaris; Blackheads; B...</td>\n",
       "      <td>6.0</td>\n",
       "      <td>329.0</td>\n",
       "      <td>https://www.drugs.com/differin.html</td>\n",
       "      <td>https://www.drugs.com/condition/acne.html</td>\n",
       "    </tr>\n",
       "    <tr>\n",
       "      <th>13</th>\n",
       "      <td>Epiduo</td>\n",
       "      <td>Acne</td>\n",
       "      <td>Benzoyl peroxide can cause a rare but serious ...</td>\n",
       "      <td>adapalene and benzoyl peroxide (topical)</td>\n",
       "      <td>Topical acne agents</td>\n",
       "      <td>0.12</td>\n",
       "      <td>Rx</td>\n",
       "      <td>C</td>\n",
       "      <td>N</td>\n",
       "      <td>0</td>\n",
       "      <td>Unknown</td>\n",
       "      <td>Acne Other names: Acne Vulgaris; Blackheads; B...</td>\n",
       "      <td>7.3</td>\n",
       "      <td>698.0</td>\n",
       "      <td>https://www.drugs.com/epiduo.html</td>\n",
       "      <td>https://www.drugs.com/condition/acne.html</td>\n",
       "    </tr>\n",
       "    <tr>\n",
       "      <th>14</th>\n",
       "      <td>adapalene</td>\n",
       "      <td>Acne</td>\n",
       "      <td>hives , itching; chest pain, difficult breathi...</td>\n",
       "      <td>adapalene topical</td>\n",
       "      <td>Topical acne agents</td>\n",
       "      <td>0.09</td>\n",
       "      <td>Rx/OTC</td>\n",
       "      <td>C</td>\n",
       "      <td>N</td>\n",
       "      <td>0</td>\n",
       "      <td>doxycycline: https://www.drugs.com/doxycycline...</td>\n",
       "      <td>Acne Other names: Acne Vulgaris; Blackheads; B...</td>\n",
       "      <td>6.3</td>\n",
       "      <td>499.0</td>\n",
       "      <td>https://www.drugs.com/mtm/adapalene-topical.html</td>\n",
       "      <td>https://www.drugs.com/condition/acne.html</td>\n",
       "    </tr>\n",
       "  </tbody>\n",
       "</table>\n",
       "</div>"
      ],
      "text/plain": [
       "           drug_name medical_condition  \\\n",
       "0        doxycycline              Acne   \n",
       "1     spironolactone              Acne   \n",
       "2        minocycline              Acne   \n",
       "3           Accutane              Acne   \n",
       "4        clindamycin              Acne   \n",
       "5          Aldactone              Acne   \n",
       "6          tretinoin              Acne   \n",
       "7       isotretinoin              Acne   \n",
       "8            Bactrim              Acne   \n",
       "9            Retin-A              Acne   \n",
       "10            Aczone              Acne   \n",
       "11  benzoyl peroxide              Acne   \n",
       "12          Differin              Acne   \n",
       "13            Epiduo              Acne   \n",
       "14         adapalene              Acne   \n",
       "\n",
       "                                         side_effects  \\\n",
       "0   (hives, difficult breathing, swelling in your ...   \n",
       "1   hives ; difficulty breathing; swelling of your...   \n",
       "2   skin rash, fever, swollen glands, flu-like sym...   \n",
       "3   problems with your vision or hearing; muscle o...   \n",
       "4   hives ; difficult breathing; swelling of your ...   \n",
       "5   hives ; difficulty breathing; swelling of your...   \n",
       "6   hives ; difficult breathing; swelling of your ...   \n",
       "7   problems with your vision or hearing; muscle o...   \n",
       "8   skin rash, fever, swollen glands, joint pain, ...   \n",
       "9   hives; difficult breathing; swelling of your f...   \n",
       "10  hives; difficult breathing; swelling of your f...   \n",
       "11  Benzoyl peroxide topical can cause a rare but ...   \n",
       "12  hives, itching; chest pain, difficult breathin...   \n",
       "13  Benzoyl peroxide can cause a rare but serious ...   \n",
       "14  hives , itching; chest pain, difficult breathi...   \n",
       "\n",
       "                                generic_name  \\\n",
       "0                                doxycycline   \n",
       "1                             spironolactone   \n",
       "2                                minocycline   \n",
       "3                        isotretinoin (oral)   \n",
       "4                        clindamycin topical   \n",
       "5                             spironolactone   \n",
       "6                          tretinoin topical   \n",
       "7                        isotretinoin (oral)   \n",
       "8          sulfamethoxazole and trimethoprim   \n",
       "9                                    Retin-A   \n",
       "10                           dapsone topical   \n",
       "11                  benzoyl peroxide topical   \n",
       "12                         adapalene topical   \n",
       "13  adapalene and benzoyl peroxide (topical)   \n",
       "14                         adapalene topical   \n",
       "\n",
       "                                         drug_classes  activity  rx_otc  \\\n",
       "0          Miscellaneous antimalarials, Tetracyclines      0.87      Rx   \n",
       "1   Aldosterone receptor antagonists, Potassium-sp...      0.82      Rx   \n",
       "2                                       Tetracyclines      0.48      Rx   \n",
       "3   Miscellaneous antineoplastics, Miscellaneous u...      0.41      Rx   \n",
       "4        Topical acne agents, Vaginal anti-infectives      0.39      Rx   \n",
       "5   Aldosterone receptor antagonists, Potassium-sp...      0.35      Rx   \n",
       "6                                 Topical acne agents      0.30      Rx   \n",
       "7   Miscellaneous antineoplastics, Miscellaneous u...      0.26      Rx   \n",
       "8                                        Sulfonamides      0.20      Rx   \n",
       "9                                 Topical acne agents      0.17      Rx   \n",
       "10                                Topical acne agents      0.13      Rx   \n",
       "11                                Topical acne agents      0.13  Rx/OTC   \n",
       "12                                Topical acne agents      0.12  Rx/OTC   \n",
       "13                                Topical acne agents      0.12      Rx   \n",
       "14                                Topical acne agents      0.09  Rx/OTC   \n",
       "\n",
       "   pregnancy_category csa alcohol  \\\n",
       "0                   D   N       X   \n",
       "1                   C   N       X   \n",
       "2                   D   N       0   \n",
       "3                   X   N       X   \n",
       "4                   B   N       0   \n",
       "5                   C   N       X   \n",
       "6                   C   N       0   \n",
       "7                   X   N       X   \n",
       "8                   D   N       X   \n",
       "9                   C   N       0   \n",
       "10                  C   N       0   \n",
       "11                  C   N       0   \n",
       "12                  C   N       0   \n",
       "13                  C   N       0   \n",
       "14                  C   N       0   \n",
       "\n",
       "                                        related_drugs  \\\n",
       "0   amoxicillin: https://www.drugs.com/amoxicillin...   \n",
       "1   amlodipine: https://www.drugs.com/amlodipine.h...   \n",
       "2   amoxicillin: https://www.drugs.com/amoxicillin...   \n",
       "3   doxycycline: https://www.drugs.com/doxycycline...   \n",
       "4   doxycycline: https://www.drugs.com/doxycycline...   \n",
       "5   amlodipine: https://www.drugs.com/amlodipine.h...   \n",
       "6                                             Unknown   \n",
       "7   doxycycline: https://www.drugs.com/doxycycline...   \n",
       "8                                             Unknown   \n",
       "9                                             Unknown   \n",
       "10  doxycycline: https://www.drugs.com/doxycycline...   \n",
       "11  doxycycline: https://www.drugs.com/doxycycline...   \n",
       "12  doxycycline: https://www.drugs.com/doxycycline...   \n",
       "13                                            Unknown   \n",
       "14  doxycycline: https://www.drugs.com/doxycycline...   \n",
       "\n",
       "                        medical_condition_description  rating  no_of_reviews  \\\n",
       "0   Acne Other names: Acne Vulgaris; Blackheads; B...     6.8          760.0   \n",
       "1   Acne Other names: Acne Vulgaris; Blackheads; B...     7.2          449.0   \n",
       "2   Acne Other names: Acne Vulgaris; Blackheads; B...     5.7          482.0   \n",
       "3   Acne Other names: Acne Vulgaris; Blackheads; B...     7.9          623.0   \n",
       "4   Acne Other names: Acne Vulgaris; Blackheads; B...     7.4          146.0   \n",
       "5   Acne Other names: Acne Vulgaris; Blackheads; B...     7.6            8.0   \n",
       "6   Acne Other names: Acne Vulgaris; Blackheads; B...     7.7          439.0   \n",
       "7   Acne Other names: Acne Vulgaris; Blackheads; B...     8.0          999.0   \n",
       "8   Acne Other names: Acne Vulgaris; Blackheads; B...     8.5           96.0   \n",
       "9   Acne Other names: Acne Vulgaris; Blackheads; B...     7.9           86.0   \n",
       "10  Acne Other names: Acne Vulgaris; Blackheads; B...     7.4          227.0   \n",
       "11  Acne Other names: Acne Vulgaris; Blackheads; B...     7.8           51.0   \n",
       "12  Acne Other names: Acne Vulgaris; Blackheads; B...     6.0          329.0   \n",
       "13  Acne Other names: Acne Vulgaris; Blackheads; B...     7.3          698.0   \n",
       "14  Acne Other names: Acne Vulgaris; Blackheads; B...     6.3          499.0   \n",
       "\n",
       "                                            drug_link  \\\n",
       "0              https://www.drugs.com/doxycycline.html   \n",
       "1           https://www.drugs.com/spironolactone.html   \n",
       "2              https://www.drugs.com/minocycline.html   \n",
       "3                 https://www.drugs.com/accutane.html   \n",
       "4   https://www.drugs.com/mtm/clindamycin-topical....   \n",
       "5                https://www.drugs.com/aldactone.html   \n",
       "6    https://www.drugs.com/mtm/tretinoin-topical.html   \n",
       "7         https://www.drugs.com/mtm/isotretinoin.html   \n",
       "8                  https://www.drugs.com/bactrim.html   \n",
       "9                  https://www.drugs.com/retin-a.html   \n",
       "10                  https://www.drugs.com/aczone.html   \n",
       "11  https://www.drugs.com/mtm/benzoyl-peroxide-top...   \n",
       "12                https://www.drugs.com/differin.html   \n",
       "13                  https://www.drugs.com/epiduo.html   \n",
       "14   https://www.drugs.com/mtm/adapalene-topical.html   \n",
       "\n",
       "                        medical_condition_url  \n",
       "0   https://www.drugs.com/condition/acne.html  \n",
       "1   https://www.drugs.com/condition/acne.html  \n",
       "2   https://www.drugs.com/condition/acne.html  \n",
       "3   https://www.drugs.com/condition/acne.html  \n",
       "4   https://www.drugs.com/condition/acne.html  \n",
       "5   https://www.drugs.com/condition/acne.html  \n",
       "6   https://www.drugs.com/condition/acne.html  \n",
       "7   https://www.drugs.com/condition/acne.html  \n",
       "8   https://www.drugs.com/condition/acne.html  \n",
       "9   https://www.drugs.com/condition/acne.html  \n",
       "10  https://www.drugs.com/condition/acne.html  \n",
       "11  https://www.drugs.com/condition/acne.html  \n",
       "12  https://www.drugs.com/condition/acne.html  \n",
       "13  https://www.drugs.com/condition/acne.html  \n",
       "14  https://www.drugs.com/condition/acne.html  "
      ]
     },
     "execution_count": 69,
     "metadata": {},
     "output_type": "execute_result"
    }
   ],
   "source": [
    "df_ver3.head(15)"
   ]
  },
  {
   "cell_type": "code",
   "execution_count": 70,
   "id": "408992bb",
   "metadata": {},
   "outputs": [
    {
     "data": {
      "text/plain": [
       "array([ 6.8,  7.2,  5.7,  7.9,  7.4,  7.6,  7.7,  8. ,  8.5,  7.8,  6. ,\n",
       "        7.3,  6.3,  8.4,  7.5, 10. ,  6.9,  8.3,  9. ,  8.2,  5. ,  8.8,\n",
       "        0. ,  6.7,  7. ,  6.4,  6.6,  8.7,  8.6,  8.1,  4.8,  5.4,  9.5,\n",
       "        5.2,  2. ,  3.8,  7.1,  8.9,  2.6,  4.4,  6.5,  3.7,  6.1,  9.4,\n",
       "        5.8,  5.1,  5.5,  4.5,  9.1,  1. ,  5.9,  4. ,  9.3,  4.7,  4.6,\n",
       "        4.9,  3.3,  3.9,  9.7,  6.2,  2.1,  9.8,  5.3,  5.6,  2.5,  4.2,\n",
       "        3.6,  4.3,  3. ,  9.2,  2.9,  2.8,  9.6,  3.2,  1.8,  2.3,  3.1,\n",
       "        3.4,  3.5,  4.1,  1.7,  2.7,  1.5,  1.1,  9.9,  2.4])"
      ]
     },
     "execution_count": 70,
     "metadata": {},
     "output_type": "execute_result"
    }
   ],
   "source": [
    "df_ver3['rating'].unique()"
   ]
  },
  {
   "cell_type": "code",
   "execution_count": 71,
   "id": "2eae181b",
   "metadata": {},
   "outputs": [
    {
     "data": {
      "text/plain": [
       "array(['doxycycline', 'spironolactone', 'minocycline', ..., 'Fendique ER',\n",
       "       'Imcivree', 'setmelanotide'], dtype=object)"
      ]
     },
     "execution_count": 71,
     "metadata": {},
     "output_type": "execute_result"
    }
   ],
   "source": [
    "df_ver3['drug_name'].unique()"
   ]
  },
  {
   "cell_type": "code",
   "execution_count": 72,
   "id": "4459f6a5",
   "metadata": {},
   "outputs": [],
   "source": [
    "# Distribution of Drug Ratings"
   ]
  },
  {
   "cell_type": "code",
   "execution_count": 73,
   "id": "50b0f30d",
   "metadata": {},
   "outputs": [
    {
     "data": {
      "image/png": "[encoded data removed]",
      "text/plain": [
       "<Figure size 640x480 with 1 Axes>"
      ]
     },
     "metadata": {},
     "output_type": "display_data"
    }
   ],
   "source": [
    "sns.histplot(df_ver3['rating'], bins=8, kde=True)\n",
    "plt.title('Distribution of Drug Ratings')\n",
    "plt.show()"
   ]
  },
  {
   "cell_type": "code",
   "execution_count": 74,
   "id": "869f92e7",
   "metadata": {},
   "outputs": [],
   "source": [
    "# Drugs by category"
   ]
  },
  {
   "cell_type": "code",
   "execution_count": 75,
   "id": "789de271",
   "metadata": {},
   "outputs": [
    {
     "data": {
      "image/png": "[encoded data removed]",
      "text/plain": [
       "<Figure size 640x480 with 1 Axes>"
      ]
     },
     "metadata": {},
     "output_type": "display_data"
    }
   ],
   "source": [
    "drug_classes_count = df_ver3['drug_classes'].value_counts().head(5)\n",
    "drug_classes_count.plot(kind='bar', color='lightgreen')\n",
    "plt.title('Top 5 Drug Classes')\n",
    "plt.xlabel('Drug Class')\n",
    "plt.ylabel('Count')\n",
    "plt.show()"
   ]
  },
  {
   "cell_type": "code",
   "execution_count": 76,
   "id": "0d30dc7a",
   "metadata": {},
   "outputs": [
    {
     "data": {
      "text/plain": [
       "array(['(hives, difficult breathing, swelling in your face or throat) or a severe skin reaction (fever, sore throat, burning in your eyes, skin pain, red or purple skin rash that spreads and causes blistering and peeling). Seek medical treatment if you have a serious drug reaction that can affect many parts of your body. Symptoms may include: skin rash, fever, swollen glands, flu-like symptoms, muscle aches, severe weakness, unusual bruising, or yellowing of your skin or eyes. This reaction may occur several weeks after you began using doxycycline. Doxycycline may cause serious side effects. Call your doctor at once if you have: severe stomach pain, diarrhea that is watery or bloody; throat irritation, trouble swallowing; chest pain, irregular heart rhythm, feeling short of breath; little or no urination; low white blood cell counts - fever, chills, swollen glands, body aches, weakness, pale skin, easy bruising or bleeding; severe headaches, ringing in your ears, dizziness, nausea, vision problems, pain behind your eyes; loss of appetite, upper stomach pain (that may spread to your back), tiredness, nausea or vomiting, fast heart rate, dark urine, jaundice (yellowing of the skin or eyes). Common side effects of doxycycline may include: nausea and vomiting; upset stomach; loss of appetite; mild diarrhea; skin rash or itching; darkened skin color; vaginal itching or discharge.',\n",
       "       'hives ; difficulty breathing; swelling of your face, lips, tongue, or throat. Call your doctor at once if you have: a light-headed feeling, like you might pass out; little or no urination; high potassium level - nausea , weakness, tingly feeling, chest pain, irregular heartbeats, loss of movement; o signs of other electrolyte imbalances - increased thirst or urination, confusion, vomiting , muscle pain, slurred speech, severe weakness, numbness , loss of coordination, feeling unsteady. Common spironolactone side effects may include: breast swelling or tenderness.',\n",
       "       'skin rash, fever, swollen glands, flu-like symptoms, muscle aches, severe weakness, unusual bruising, or yellowing of your skin or eyes. This may be more likely with long-term use of minocycline, and the reaction may occur several weeks after you began using this medicine. Call your doctor at once if you have: little or no urination, swelling in your feet or ankles, feeling tired or short of breath (signs of kidney problems); loss of appetite, upper stomach pain (that may spread to your back), nausea or vomiting, loss of appetite, easy bruising or bleeding, dark urine, yellowing of the skin or eyes (signs of liver or pancreas problems); joint pain or swelling with fever, swollen glands, muscle aches, chest pain, vomiting, unusual thoughts or behavior, and patchy skin color; severe headaches, ringing in your ears, dizziness, vision problems, pain behind your eyes; or swollen glands, flu symptoms, easy bruising or bleeding, severe tingling or numbness, muscle weakness, chest pain, new or worsening cough with fever, trouble breathing. Common minocycline side effects may include: numbness , tingling, burning pain; hair loss ; discoloration of you skin or nails. dizziness, spinning sensation; muscle or joint pain; nausea, diarrhea, loss of appetite; swollen tongue, cough, trouble swallowing; rash, itching; or headache .',\n",
       "       ...,\n",
       "       'hives ; difficult breathing; swelling of your face, lips, tongue, or throat. Report any new or worsening symptoms to your doctor, such as: mood or behavior changes, anxiety , panic attacks , trouble sleeping, or if you feel impulsive, irritable, agitated, hostile, aggressive, restless, hyperactive (mentally or physically), more depressed, or have thoughts about suicide or hurting yourself. Fenfluramine can cause serious side effects on your heart and lungs. Call your doctor right away if you have: chest pain, pounding heartbeats or fluttering in your chest; shortness or breath; blue colored skin or lips; swelling in your lower legs; or unusual tiredness or weakness, feeling like you might pass out. Also call your doctor at once if you have: loss of appetite and weight loss; worsening seizures; blurred vision, tunnel vision, eye pain or redness, or seeing halos around lights; nausea or vomiting ; or increased blood pressure--severe headache , blurred vision, pounding in your neck or ears, anxiety, nosebleed. Seek medical attention right away if you have symptoms of serotonin syndrome, such as: agitation , hallucinations, fever, sweating, shivering, fast heart rate , muscle stiffness, twitching, loss of coordination, nausea, vomiting, or diarrhea . Fenfluramine can affect weight or growth in children. Tell your doctor if your child is not growing at a normal rate while using this medicine. Common side effects of fenfluramine may include: loss of appetite, vomiting, diarrhea, constipation ; seizures that do not stop; feeling weak or tired; fever, infections; abnormal heart function tests; problems with balance, walking, or muscle movement; drooling ; or cold symptoms such as stuffy nose, sneezing, sore throat .',\n",
       "       'Imcivree may cause serious side effects, including: Male and female sexual function problems. Imcivree can cause an erection that happens without any sexual activity in males (spontaneous penile erection) and unwanted sexual reactions (changes in sexual arousal that happen without any sexual activity) in females. If you have an erection lasting longer than 4 hours, get emergency medical help right away. Depression and suicidal thoughts or actions. You or a caregiver should call your healthcare provider right away if you have any new or worsening symptoms of depression. Increased skin pigmentation and darkening of skin lesions (moles or nevi) you already have. These changes happen because of how Imcivree works in the body and will go away when you stop using Imcivree. You should have a full body skin exam before starting and during treatment to check for skin changes. Benzyl alcohol toxicity. Benzyl alcohol is a preservative in Imcivree. Benzyl alcohol can cause serious side effects, including death, in premature and low-birth weight infants, who have received medicines that contain benzyl alcohol. Imcivree should not be used in premature and low-birth weight infants. The most common side effects of include: injection site reactions darkening of the skin nausea vomiting headache erection that happens without any sexual activity in males diarrhea stomach pain. These are not all the possible side effects. Call your doctor for medical advice about side effects. You may report side effects to FDA at 1-800-FDA-1088 or Rhythm Pharmaceuticals at 1-833-789-6337. Imcivree side effects',\n",
       "       'hives ; difficult breathing; swelling of your face, lips, tongue, or throat. Some people have thoughts about suicide while using setmelanotide. Tell your doctor right away if you have any sudden changes in mood or behavior, or thoughts about suicide. Setmelanotide may cause serious side effects. Call your doctor at once if you have: an erection lasting longer than 4 hours. Common side effects of setmelanotide may include: bruising, swelling, warmth, redness, oozing, or bleeding where an injection was given; skin darkening; headache ; erection without any sexual activity in males; or nausea , vomiting , diarrhea , or stomach pain.'],\n",
       "      dtype=object)"
      ]
     },
     "execution_count": 76,
     "metadata": {},
     "output_type": "execute_result"
    }
   ],
   "source": [
    "df_ver3['side_effects'].unique()"
   ]
  },
  {
   "cell_type": "code",
   "execution_count": 77,
   "id": "83735497",
   "metadata": {},
   "outputs": [],
   "source": [
    "all_side_effects = ', '.join(df_ver3['side_effects'].dropna())"
   ]
  },
  {
   "cell_type": "code",
   "execution_count": 78,
   "id": "ed534038",
   "metadata": {},
   "outputs": [],
   "source": [
    "side_effects_list = all_side_effects.split(', ')\n",
    "side_effects_count = Counter(side_effects_list)"
   ]
  },
  {
   "cell_type": "code",
   "execution_count": 79,
   "id": "64d9ee46",
   "metadata": {},
   "outputs": [],
   "source": [
    "top_side_effects = side_effects_count.most_common(15)\n",
    "side_effects_df_ver3 = pd.DataFrame(top_side_effects, columns=['Side Effect', 'Count'])"
   ]
  },
  {
   "cell_type": "code",
   "execution_count": 80,
   "id": "84696fb4",
   "metadata": {},
   "outputs": [],
   "source": [
    "# Top 15 most common side effects"
   ]
  },
  {
   "cell_type": "code",
   "execution_count": 81,
   "id": "43f3a0db",
   "metadata": {},
   "outputs": [
    {
     "data": {
      "image/png": "[encoded data removed]",
      "text/plain": [
       "<Figure size 1000x600 with 1 Axes>"
      ]
     },
     "metadata": {},
     "output_type": "display_data"
    }
   ],
   "source": [
    "wordcloud = WordCloud(width=800, height=400, background_color='white').generate_from_frequencies(dict(top_side_effects))\n",
    "plt.figure(figsize=(10, 6))\n",
    "plt.imshow(wordcloud, interpolation='bilinear')\n",
    "plt.axis('off')\n",
    "plt.title('Word Cloud of Side Effects')\n",
    "plt.show()"
   ]
  },
  {
   "cell_type": "code",
   "execution_count": 82,
   "id": "da2bb13f",
   "metadata": {},
   "outputs": [
    {
     "data": {
      "text/plain": [
       "array(['D', 'C', 'X', 'B', 'N', 'Unknown', 'A'], dtype=object)"
      ]
     },
     "execution_count": 82,
     "metadata": {},
     "output_type": "execute_result"
    }
   ],
   "source": [
    "df_ver3['pregnancy_category'].unique()"
   ]
  },
  {
   "cell_type": "code",
   "execution_count": 83,
   "id": "f18f3e06",
   "metadata": {},
   "outputs": [],
   "source": [
    " category_counts = df_ver3['pregnancy_category'].fillna('Unknown').value_counts()"
   ]
  },
  {
   "cell_type": "code",
   "execution_count": 84,
   "id": "7c0907b9",
   "metadata": {},
   "outputs": [],
   "source": [
    "category_df = category_counts.reset_index()\n",
    "category_df.columns = ['Pregnancy Category', 'Count']"
   ]
  },
  {
   "cell_type": "code",
   "execution_count": 85,
   "id": "4e4d5c0d",
   "metadata": {
    "scrolled": true
   },
   "outputs": [],
   "source": [
    "# pregnancy_category Bar plot "
   ]
  },
  {
   "cell_type": "code",
   "execution_count": 86,
   "id": "fc7c7541",
   "metadata": {},
   "outputs": [
    {
     "data": {
      "image/png": "[encoded data removed]",
      "text/plain": [
       "<Figure size 1000x600 with 1 Axes>"
      ]
     },
     "metadata": {},
     "output_type": "display_data"
    }
   ],
   "source": [
    "plt.figure(figsize=(10, 6))\n",
    "sns.barplot(x='Pregnancy Category', y='Count', data=category_df, palette='coolwarm')\n",
    "plt.title('Distribution of Drugs Across Pregnancy Categories')\n",
    "plt.xlabel('Pregnancy Category')\n",
    "plt.ylabel('Number of Drugs')\n",
    "plt.show()"
   ]
  },
  {
   "cell_type": "code",
   "execution_count": 87,
   "id": "f85f8b17",
   "metadata": {},
   "outputs": [],
   "source": [
    "drug_types = df_ver3['rx_otc'].value_counts()"
   ]
  },
  {
   "cell_type": "code",
   "execution_count": 88,
   "id": "17efa7a2",
   "metadata": {},
   "outputs": [],
   "source": [
    "# Prescription vs. Over-the-counter (OTC) drugs"
   ]
  },
  {
   "cell_type": "code",
   "execution_count": 89,
   "id": "8a6755c0",
   "metadata": {},
   "outputs": [
    {
     "data": {
      "image/png": "[encoded data removed]",
      "text/plain": [
       "<Figure size 800x600 with 1 Axes>"
      ]
     },
     "metadata": {},
     "output_type": "display_data"
    }
   ],
   "source": [
    "plt.figure(figsize=(8, 6))\n",
    "drug_types.plot(kind='bar', color=['darkred', 'lightgreen'])\n",
    "plt.title('Prescription vs. Over-the-counter (OTC) Drugs')\n",
    "plt.xlabel('Drug Type')\n",
    "plt.ylabel('Number of Drugs')\n",
    "plt.xticks(rotation=0)   \n",
    "plt.show()"
   ]
  },
  {
   "cell_type": "code",
   "execution_count": 90,
   "id": "6bd57072",
   "metadata": {},
   "outputs": [],
   "source": [
    "# drug ratings VS number of reviews."
   ]
  },
  {
   "cell_type": "code",
   "execution_count": 91,
   "id": "05df3583",
   "metadata": {},
   "outputs": [
    {
     "data": {
      "image/png": "[encoded data removed]",
      "text/plain": [
       "<Figure size 1000x600 with 1 Axes>"
      ]
     },
     "metadata": {},
     "output_type": "display_data"
    }
   ],
   "source": [
    "plt.figure(figsize=(10, 6))\n",
    "plt.scatter(df_ver3['no_of_reviews'], df_ver3['rating'], color='purple', alpha=0.5)\n",
    "plt.title('Scatter Plot: Drug Ratings vs. Number of Reviews')\n",
    "plt.xlabel('Number of Reviews')\n",
    "plt.ylabel('Drug Rating')\n",
    "plt.show()   "
   ]
  },
  {
   "cell_type": "code",
   "execution_count": 92,
   "id": "bfa49ac3",
   "metadata": {},
   "outputs": [],
   "source": [
    "def has_hives(text):\n",
    " return 'hives' in text.lower()\n",
    "df_ver3['Hives'] = df_ver3['side_effects'].apply(has_hives)"
   ]
  },
  {
   "cell_type": "code",
   "execution_count": 93,
   "id": "abd9b410",
   "metadata": {},
   "outputs": [
    {
     "data": {
      "image/png": "[encoded data removed]",
      "text/plain": [
       "<Figure size 640x480 with 1 Axes>"
      ]
     },
     "metadata": {},
     "output_type": "display_data"
    }
   ],
   "source": [
    "# Plot count of Hives\n",
    "df_ver3['Hives'].value_counts().plot(kind='bar')\n",
    "plt.title('Count of Hives')\n",
    "plt.xlabel('Hives')\n",
    "plt.ylabel('Count')\n",
    "plt.xticks([0, 1], ['False', 'True'], rotation=0)\n",
    "plt.show()"
   ]
  },
  {
   "cell_type": "code",
   "execution_count": 94,
   "id": "fdbb564f",
   "metadata": {},
   "outputs": [],
   "source": [
    "def is_usc(text):\n",
    "    return 'Upper respiratory combinations' in text\n",
    "df_ver3['Upper respiratory combinations'] = df_ver3['drug_classes'].apply(is_usc)"
   ]
  },
  {
   "cell_type": "code",
   "execution_count": 95,
   "id": "cfd55b55",
   "metadata": {},
   "outputs": [
    {
     "data": {
      "image/png": "[encoded data removed]",
      "text/plain": [
       "<Figure size 640x480 with 1 Axes>"
      ]
     },
     "metadata": {},
     "output_type": "display_data"
    }
   ],
   "source": [
    "# Plot count of Upper respiratory combinations\n",
    "df_ver3['Upper respiratory combinations'].value_counts().plot(kind='bar')\n",
    "plt.title('Count of Upper respiratory combinations')\n",
    "plt.xlabel('Upper respiratory combinations')\n",
    "plt.ylabel('Count')\n",
    "plt.xticks([0, 1], ['False', 'True'], rotation=0)\n",
    "plt.show()"
   ]
  },
  {
   "cell_type": "code",
   "execution_count": 96,
   "id": "036681a1",
   "metadata": {},
   "outputs": [],
   "source": [
    "def has_colds_and_flu(text):\n",
    "    return 'Colds & Flu' in text\n",
    "df_ver3['Colds & Flu'] = df_ver3['medical_condition'].apply(has_colds_and_flu)"
   ]
  },
  {
   "cell_type": "code",
   "execution_count": 97,
   "id": "becc16f8",
   "metadata": {},
   "outputs": [
    {
     "data": {
      "image/png": "[encoded data removed]",
      "text/plain": [
       "<Figure size 640x480 with 1 Axes>"
      ]
     },
     "metadata": {},
     "output_type": "display_data"
    }
   ],
   "source": [
    "# Plot count of Colds & Flu\n",
    "df_ver3['Colds & Flu'].value_counts().plot(kind='bar')\n",
    "plt.title('Count of Colds & Flu')\n",
    "plt.xlabel('Colds & Flu')\n",
    "plt.ylabel('Count')\n",
    "plt.xticks([0, 1], ['False', 'True'], rotation=0)\n",
    "plt.show()"
   ]
  },
  {
   "cell_type": "code",
   "execution_count": null,
   "id": "312a7823",
   "metadata": {},
   "outputs": [],
   "source": []
  }
 ],
 "metadata": {
  "kernelspec": {
   "display_name": "Python 3 (ipykernel)",
   "language": "python",
   "name": "python3"
  },
  "language_info": {
   "codemirror_mode": {
    "name": "ipython",
    "version": 3
   },
   "file_extension": ".py",
   "mimetype": "text/x-python",
   "name": "python",
   "nbconvert_exporter": "python",
   "pygments_lexer": "ipython3",
   "version": "3.11.4"
  }
 },
 "nbformat": 4,
 "nbformat_minor": 5
}
